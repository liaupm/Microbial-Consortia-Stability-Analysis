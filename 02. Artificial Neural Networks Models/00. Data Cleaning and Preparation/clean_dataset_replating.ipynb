{
  "nbformat": 4,
  "nbformat_minor": 0,
  "metadata": {
    "colab": {
      "name": "CleanDatasetReplating.ipynb",
      "provenance": []
    },
    "kernelspec": {
      "display_name": "Python 3",
      "name": "python3"
    },
    "language_info": {
      "name": "python"
    }
  },
  "cells": [
    {
      "cell_type": "code",
      "metadata": {
        "colab": {
          "base_uri": "https://localhost:8080/"
        },
        "id": "jBxp4GOxCkjm",
        "outputId": "699710b2-8e65-4df3-9b8f-030ab927546f"
      },
      "source": [
        "import numpy as np\n",
        "import pandas as pd\n",
        "\n",
        "from sklearn.preprocessing import LabelEncoder, OneHotEncoder, minmax_scale, scale\n",
        "\n",
        "import matplotlib.pyplot as plt\n",
        "import seaborn as sns\n",
        "import bokeh as bk\n",
        "\n",
        "from google.colab import drive\n",
        "drive.mount('/gdrive', force_remount=True)"
      ],
      "execution_count": null,
      "outputs": [
        {
          "output_type": "stream",
          "name": "stdout",
          "text": [
            "Mounted at /gdrive\n"
          ]
        }
      ]
    },
    {
      "cell_type": "code",
      "metadata": {
        "id": "w6bk-TaFCvHM"
      },
      "source": [
        "INPUT_FILE_NAME = \"/gdrive/My Drive/Colab Notebooks/TFM/data_replating.csv\"\n",
        "ATT_FILE_NAME = \"/gdrive/My Drive/Colab Notebooks/TFM/data_replating_clean.csv\"\n",
        "ONE_HOT_ENCODED_CLASSES_FILE_NAME = \"/gdrive/My Drive/Colab Notebooks/TFM/data_replating_onehot_2clases.csv\"\n",
        "CONTINUOUS_2LABEL_FILE_NAME = \"/gdrive/My Drive/Colab Notebooks/TFM/data_replating_continuous_2labels.csv\"\n",
        "CONTINUOUS_FILE_NAME = \"/gdrive/My Drive/Colab Notebooks/TFM/data_replating_continuous.csv\""
      ],
      "execution_count": null,
      "outputs": []
    },
    {
      "cell_type": "code",
      "metadata": {
        "colab": {
          "base_uri": "https://localhost:8080/"
        },
        "id": "ggCBoQmKDCRM",
        "outputId": "41c3615c-d239-42a7-f0a4-327e867616bf"
      },
      "source": [
        "dataset = pd.read_csv(INPUT_FILE_NAME)\n",
        "dataset.columns"
      ],
      "execution_count": null,
      "outputs": [
        {
          "output_type": "execute_result",
          "data": {
            "text/plain": [
              "Index(['Unnamed: 0', 'Unnamed: 0.1', 'Num_Cells_Strain1', 'Num_Cells_Strain2',\n",
              "       't_deg', 'k_degA', 'k_degB', 'ratioS1', 'ratioS2', 'posS1', 'posS2',\n",
              "       'Stability', 'Survivors', 'New_Stability'],\n",
              "      dtype='object')"
            ]
          },
          "metadata": {},
          "execution_count": 3
        }
      ]
    },
    {
      "cell_type": "code",
      "metadata": {
        "colab": {
          "base_uri": "https://localhost:8080/"
        },
        "id": "SxYD2EWuP-aD",
        "outputId": "94296292-d766-48c9-f654-2f19c9386092"
      },
      "source": [
        "dataset = dataset.drop(['Unnamed: 0', 'Unnamed: 0.1', 'posS1', 'posS2'], axis=1)\n",
        "dataset.info()"
      ],
      "execution_count": null,
      "outputs": [
        {
          "output_type": "stream",
          "name": "stdout",
          "text": [
            "<class 'pandas.core.frame.DataFrame'>\n",
            "RangeIndex: 9030 entries, 0 to 9029\n",
            "Data columns (total 10 columns):\n",
            " #   Column             Non-Null Count  Dtype  \n",
            "---  ------             --------------  -----  \n",
            " 0   Num_Cells_Strain1  9030 non-null   int64  \n",
            " 1   Num_Cells_Strain2  9030 non-null   int64  \n",
            " 2   t_deg              9030 non-null   int64  \n",
            " 3   k_degA             9030 non-null   float64\n",
            " 4   k_degB             9030 non-null   float64\n",
            " 5   ratioS1            9030 non-null   float64\n",
            " 6   ratioS2            9030 non-null   float64\n",
            " 7   Stability          9030 non-null   float64\n",
            " 8   Survivors          9030 non-null   float64\n",
            " 9   New_Stability      9030 non-null   float64\n",
            "dtypes: float64(7), int64(3)\n",
            "memory usage: 705.6 KB\n"
          ]
        }
      ]
    },
    {
      "cell_type": "code",
      "metadata": {
        "colab": {
          "base_uri": "https://localhost:8080/",
          "height": 362
        },
        "id": "zJ7PF0B5DUF0",
        "outputId": "cc18c2b5-407a-4eeb-a9a3-83aa91296af3"
      },
      "source": [
        "dataset.head(10)"
      ],
      "execution_count": null,
      "outputs": [
        {
          "output_type": "execute_result",
          "data": {
            "text/html": [
              "<div>\n",
              "<style scoped>\n",
              "    .dataframe tbody tr th:only-of-type {\n",
              "        vertical-align: middle;\n",
              "    }\n",
              "\n",
              "    .dataframe tbody tr th {\n",
              "        vertical-align: top;\n",
              "    }\n",
              "\n",
              "    .dataframe thead th {\n",
              "        text-align: right;\n",
              "    }\n",
              "</style>\n",
              "<table border=\"1\" class=\"dataframe\">\n",
              "  <thead>\n",
              "    <tr style=\"text-align: right;\">\n",
              "      <th></th>\n",
              "      <th>Num_Cells_Strain1</th>\n",
              "      <th>Num_Cells_Strain2</th>\n",
              "      <th>t_deg</th>\n",
              "      <th>k_degA</th>\n",
              "      <th>k_degB</th>\n",
              "      <th>ratioS1</th>\n",
              "      <th>ratioS2</th>\n",
              "      <th>Stability</th>\n",
              "      <th>Survivors</th>\n",
              "      <th>New_Stability</th>\n",
              "    </tr>\n",
              "  </thead>\n",
              "  <tbody>\n",
              "    <tr>\n",
              "      <th>0</th>\n",
              "      <td>8</td>\n",
              "      <td>4</td>\n",
              "      <td>12</td>\n",
              "      <td>0.1</td>\n",
              "      <td>0.3</td>\n",
              "      <td>1.074368</td>\n",
              "      <td>0.584471</td>\n",
              "      <td>0.2</td>\n",
              "      <td>0.9</td>\n",
              "      <td>0.6</td>\n",
              "    </tr>\n",
              "    <tr>\n",
              "      <th>1</th>\n",
              "      <td>8</td>\n",
              "      <td>4</td>\n",
              "      <td>12</td>\n",
              "      <td>0.1</td>\n",
              "      <td>0.3</td>\n",
              "      <td>1.074368</td>\n",
              "      <td>0.584471</td>\n",
              "      <td>0.2</td>\n",
              "      <td>0.1</td>\n",
              "      <td>1.0</td>\n",
              "    </tr>\n",
              "    <tr>\n",
              "      <th>2</th>\n",
              "      <td>8</td>\n",
              "      <td>4</td>\n",
              "      <td>12</td>\n",
              "      <td>0.1</td>\n",
              "      <td>0.3</td>\n",
              "      <td>1.074368</td>\n",
              "      <td>0.584471</td>\n",
              "      <td>0.2</td>\n",
              "      <td>0.3</td>\n",
              "      <td>1.0</td>\n",
              "    </tr>\n",
              "    <tr>\n",
              "      <th>3</th>\n",
              "      <td>8</td>\n",
              "      <td>4</td>\n",
              "      <td>12</td>\n",
              "      <td>0.1</td>\n",
              "      <td>0.3</td>\n",
              "      <td>1.074368</td>\n",
              "      <td>0.584471</td>\n",
              "      <td>0.2</td>\n",
              "      <td>0.5</td>\n",
              "      <td>1.0</td>\n",
              "    </tr>\n",
              "    <tr>\n",
              "      <th>4</th>\n",
              "      <td>8</td>\n",
              "      <td>4</td>\n",
              "      <td>12</td>\n",
              "      <td>0.1</td>\n",
              "      <td>0.3</td>\n",
              "      <td>1.074368</td>\n",
              "      <td>0.584471</td>\n",
              "      <td>0.2</td>\n",
              "      <td>0.7</td>\n",
              "      <td>0.5</td>\n",
              "    </tr>\n",
              "    <tr>\n",
              "      <th>5</th>\n",
              "      <td>8</td>\n",
              "      <td>4</td>\n",
              "      <td>12</td>\n",
              "      <td>0.3</td>\n",
              "      <td>0.3</td>\n",
              "      <td>1.074368</td>\n",
              "      <td>0.584471</td>\n",
              "      <td>0.7</td>\n",
              "      <td>0.9</td>\n",
              "      <td>0.6</td>\n",
              "    </tr>\n",
              "    <tr>\n",
              "      <th>6</th>\n",
              "      <td>8</td>\n",
              "      <td>4</td>\n",
              "      <td>12</td>\n",
              "      <td>0.3</td>\n",
              "      <td>0.3</td>\n",
              "      <td>1.074368</td>\n",
              "      <td>0.584471</td>\n",
              "      <td>0.7</td>\n",
              "      <td>0.1</td>\n",
              "      <td>0.8</td>\n",
              "    </tr>\n",
              "    <tr>\n",
              "      <th>7</th>\n",
              "      <td>8</td>\n",
              "      <td>4</td>\n",
              "      <td>12</td>\n",
              "      <td>0.3</td>\n",
              "      <td>0.3</td>\n",
              "      <td>1.074368</td>\n",
              "      <td>0.584471</td>\n",
              "      <td>0.7</td>\n",
              "      <td>0.3</td>\n",
              "      <td>0.8</td>\n",
              "    </tr>\n",
              "    <tr>\n",
              "      <th>8</th>\n",
              "      <td>8</td>\n",
              "      <td>4</td>\n",
              "      <td>12</td>\n",
              "      <td>0.3</td>\n",
              "      <td>0.3</td>\n",
              "      <td>1.074368</td>\n",
              "      <td>0.584471</td>\n",
              "      <td>0.7</td>\n",
              "      <td>0.5</td>\n",
              "      <td>0.8</td>\n",
              "    </tr>\n",
              "    <tr>\n",
              "      <th>9</th>\n",
              "      <td>8</td>\n",
              "      <td>4</td>\n",
              "      <td>12</td>\n",
              "      <td>0.3</td>\n",
              "      <td>0.3</td>\n",
              "      <td>1.074368</td>\n",
              "      <td>0.584471</td>\n",
              "      <td>0.7</td>\n",
              "      <td>0.7</td>\n",
              "      <td>0.8</td>\n",
              "    </tr>\n",
              "  </tbody>\n",
              "</table>\n",
              "</div>"
            ],
            "text/plain": [
              "   Num_Cells_Strain1  Num_Cells_Strain2  ...  Survivors  New_Stability\n",
              "0                  8                  4  ...        0.9            0.6\n",
              "1                  8                  4  ...        0.1            1.0\n",
              "2                  8                  4  ...        0.3            1.0\n",
              "3                  8                  4  ...        0.5            1.0\n",
              "4                  8                  4  ...        0.7            0.5\n",
              "5                  8                  4  ...        0.9            0.6\n",
              "6                  8                  4  ...        0.1            0.8\n",
              "7                  8                  4  ...        0.3            0.8\n",
              "8                  8                  4  ...        0.5            0.8\n",
              "9                  8                  4  ...        0.7            0.8\n",
              "\n",
              "[10 rows x 10 columns]"
            ]
          },
          "metadata": {},
          "execution_count": 5
        }
      ]
    },
    {
      "cell_type": "code",
      "metadata": {
        "colab": {
          "base_uri": "https://localhost:8080/",
          "height": 362
        },
        "id": "OHh8HsmYDiX6",
        "outputId": "1e68cd1f-a12a-457a-bd25-49f4ce2f1282"
      },
      "source": [
        "dataset.tail(10)"
      ],
      "execution_count": null,
      "outputs": [
        {
          "output_type": "execute_result",
          "data": {
            "text/html": [
              "<div>\n",
              "<style scoped>\n",
              "    .dataframe tbody tr th:only-of-type {\n",
              "        vertical-align: middle;\n",
              "    }\n",
              "\n",
              "    .dataframe tbody tr th {\n",
              "        vertical-align: top;\n",
              "    }\n",
              "\n",
              "    .dataframe thead th {\n",
              "        text-align: right;\n",
              "    }\n",
              "</style>\n",
              "<table border=\"1\" class=\"dataframe\">\n",
              "  <thead>\n",
              "    <tr style=\"text-align: right;\">\n",
              "      <th></th>\n",
              "      <th>Num_Cells_Strain1</th>\n",
              "      <th>Num_Cells_Strain2</th>\n",
              "      <th>t_deg</th>\n",
              "      <th>k_degA</th>\n",
              "      <th>k_degB</th>\n",
              "      <th>ratioS1</th>\n",
              "      <th>ratioS2</th>\n",
              "      <th>Stability</th>\n",
              "      <th>Survivors</th>\n",
              "      <th>New_Stability</th>\n",
              "    </tr>\n",
              "  </thead>\n",
              "  <tbody>\n",
              "    <tr>\n",
              "      <th>9020</th>\n",
              "      <td>8</td>\n",
              "      <td>5</td>\n",
              "      <td>36</td>\n",
              "      <td>0.1</td>\n",
              "      <td>0.3</td>\n",
              "      <td>1.159105</td>\n",
              "      <td>0.720724</td>\n",
              "      <td>0.2</td>\n",
              "      <td>0.1</td>\n",
              "      <td>1.0</td>\n",
              "    </tr>\n",
              "    <tr>\n",
              "      <th>9021</th>\n",
              "      <td>8</td>\n",
              "      <td>5</td>\n",
              "      <td>36</td>\n",
              "      <td>0.1</td>\n",
              "      <td>0.3</td>\n",
              "      <td>1.159105</td>\n",
              "      <td>0.720724</td>\n",
              "      <td>0.2</td>\n",
              "      <td>0.3</td>\n",
              "      <td>1.0</td>\n",
              "    </tr>\n",
              "    <tr>\n",
              "      <th>9022</th>\n",
              "      <td>8</td>\n",
              "      <td>5</td>\n",
              "      <td>36</td>\n",
              "      <td>0.1</td>\n",
              "      <td>0.3</td>\n",
              "      <td>1.159105</td>\n",
              "      <td>0.720724</td>\n",
              "      <td>0.2</td>\n",
              "      <td>0.5</td>\n",
              "      <td>0.9</td>\n",
              "    </tr>\n",
              "    <tr>\n",
              "      <th>9023</th>\n",
              "      <td>8</td>\n",
              "      <td>5</td>\n",
              "      <td>36</td>\n",
              "      <td>0.1</td>\n",
              "      <td>0.3</td>\n",
              "      <td>1.159105</td>\n",
              "      <td>0.720724</td>\n",
              "      <td>0.2</td>\n",
              "      <td>0.7</td>\n",
              "      <td>0.7</td>\n",
              "    </tr>\n",
              "    <tr>\n",
              "      <th>9024</th>\n",
              "      <td>8</td>\n",
              "      <td>5</td>\n",
              "      <td>36</td>\n",
              "      <td>0.1</td>\n",
              "      <td>0.3</td>\n",
              "      <td>1.159105</td>\n",
              "      <td>0.720724</td>\n",
              "      <td>0.2</td>\n",
              "      <td>0.9</td>\n",
              "      <td>0.4</td>\n",
              "    </tr>\n",
              "    <tr>\n",
              "      <th>9025</th>\n",
              "      <td>8</td>\n",
              "      <td>5</td>\n",
              "      <td>46</td>\n",
              "      <td>0.1</td>\n",
              "      <td>0.3</td>\n",
              "      <td>1.159105</td>\n",
              "      <td>0.720724</td>\n",
              "      <td>0.1</td>\n",
              "      <td>0.1</td>\n",
              "      <td>1.0</td>\n",
              "    </tr>\n",
              "    <tr>\n",
              "      <th>9026</th>\n",
              "      <td>8</td>\n",
              "      <td>5</td>\n",
              "      <td>46</td>\n",
              "      <td>0.1</td>\n",
              "      <td>0.3</td>\n",
              "      <td>1.159105</td>\n",
              "      <td>0.720724</td>\n",
              "      <td>0.1</td>\n",
              "      <td>0.3</td>\n",
              "      <td>1.0</td>\n",
              "    </tr>\n",
              "    <tr>\n",
              "      <th>9027</th>\n",
              "      <td>8</td>\n",
              "      <td>5</td>\n",
              "      <td>46</td>\n",
              "      <td>0.1</td>\n",
              "      <td>0.3</td>\n",
              "      <td>1.159105</td>\n",
              "      <td>0.720724</td>\n",
              "      <td>0.1</td>\n",
              "      <td>0.5</td>\n",
              "      <td>1.0</td>\n",
              "    </tr>\n",
              "    <tr>\n",
              "      <th>9028</th>\n",
              "      <td>8</td>\n",
              "      <td>5</td>\n",
              "      <td>46</td>\n",
              "      <td>0.1</td>\n",
              "      <td>0.3</td>\n",
              "      <td>1.159105</td>\n",
              "      <td>0.720724</td>\n",
              "      <td>0.1</td>\n",
              "      <td>0.7</td>\n",
              "      <td>0.8</td>\n",
              "    </tr>\n",
              "    <tr>\n",
              "      <th>9029</th>\n",
              "      <td>8</td>\n",
              "      <td>5</td>\n",
              "      <td>46</td>\n",
              "      <td>0.1</td>\n",
              "      <td>0.3</td>\n",
              "      <td>1.159105</td>\n",
              "      <td>0.720724</td>\n",
              "      <td>0.1</td>\n",
              "      <td>0.9</td>\n",
              "      <td>0.3</td>\n",
              "    </tr>\n",
              "  </tbody>\n",
              "</table>\n",
              "</div>"
            ],
            "text/plain": [
              "      Num_Cells_Strain1  Num_Cells_Strain2  ...  Survivors  New_Stability\n",
              "9020                  8                  5  ...        0.1            1.0\n",
              "9021                  8                  5  ...        0.3            1.0\n",
              "9022                  8                  5  ...        0.5            0.9\n",
              "9023                  8                  5  ...        0.7            0.7\n",
              "9024                  8                  5  ...        0.9            0.4\n",
              "9025                  8                  5  ...        0.1            1.0\n",
              "9026                  8                  5  ...        0.3            1.0\n",
              "9027                  8                  5  ...        0.5            1.0\n",
              "9028                  8                  5  ...        0.7            0.8\n",
              "9029                  8                  5  ...        0.9            0.3\n",
              "\n",
              "[10 rows x 10 columns]"
            ]
          },
          "metadata": {},
          "execution_count": 6
        }
      ]
    },
    {
      "cell_type": "markdown",
      "metadata": {
        "id": "0Pz2_p5eDpf9"
      },
      "source": [
        "**First Step:** find out whether or not there are missing values. "
      ]
    },
    {
      "cell_type": "code",
      "metadata": {
        "colab": {
          "base_uri": "https://localhost:8080/"
        },
        "id": "nog_ypupDmlM",
        "outputId": "f0caef66-d35a-45c7-a5a4-ea096b90cfde"
      },
      "source": [
        "{att : dataset[dataset[att].isnull()].shape[0] for att in dataset.columns}"
      ],
      "execution_count": null,
      "outputs": [
        {
          "output_type": "execute_result",
          "data": {
            "text/plain": [
              "{'New_Stability': 0,\n",
              " 'Num_Cells_Strain1': 0,\n",
              " 'Num_Cells_Strain2': 0,\n",
              " 'Stability': 0,\n",
              " 'Survivors': 0,\n",
              " 'k_degA': 0,\n",
              " 'k_degB': 0,\n",
              " 'ratioS1': 0,\n",
              " 'ratioS2': 0,\n",
              " 't_deg': 0}"
            ]
          },
          "metadata": {},
          "execution_count": 7
        }
      ]
    },
    {
      "cell_type": "code",
      "metadata": {
        "id": "0fq1ybjHCzT5"
      },
      "source": [
        "dataset = dataset.fillna(3)\n",
        "dataset['ratioS1'] = dataset['ratioS1'].replace([1000], 3)\n",
        "dataset['ratioS2'] = dataset['ratioS2'].replace([1000], 3)"
      ],
      "execution_count": null,
      "outputs": []
    },
    {
      "cell_type": "code",
      "metadata": {
        "id": "klHlkUfCfqCU"
      },
      "source": [
        "dataset = dataset.drop_duplicates()"
      ],
      "execution_count": null,
      "outputs": []
    },
    {
      "cell_type": "markdown",
      "metadata": {
        "id": "XM3z4_5fD6Y9"
      },
      "source": [
        "**Second Step**: Check outliers and scale data. There are several actions to consider regarding outliers:\n",
        "\n",
        "\n",
        "1.   **Scale** each attribute based on its mean and standard deviation (normalization). This approach may produce values larger than 1 or lower than -1.\n",
        "2.   **Remove** rows containing outliers; at least some of them. The disadvantage is that we do not have so many examples in the dataset.\n",
        "3.   **Curate** data by modifying outliers."
      ]
    },
    {
      "cell_type": "code",
      "metadata": {
        "colab": {
          "base_uri": "https://localhost:8080/",
          "height": 424
        },
        "id": "lNKAbRGxD8um",
        "outputId": "64537c30-ef1b-45fe-f889-34d421de06cf"
      },
      "source": [
        "normalized_ds = pd.DataFrame (scale (dataset.drop (columns=\"New_Stability\"), axis=0, copy=True),columns=dataset.drop (columns=\"New_Stability\").columns) \n",
        "normalized_ds"
      ],
      "execution_count": null,
      "outputs": [
        {
          "output_type": "execute_result",
          "data": {
            "text/html": [
              "<div>\n",
              "<style scoped>\n",
              "    .dataframe tbody tr th:only-of-type {\n",
              "        vertical-align: middle;\n",
              "    }\n",
              "\n",
              "    .dataframe tbody tr th {\n",
              "        vertical-align: top;\n",
              "    }\n",
              "\n",
              "    .dataframe thead th {\n",
              "        text-align: right;\n",
              "    }\n",
              "</style>\n",
              "<table border=\"1\" class=\"dataframe\">\n",
              "  <thead>\n",
              "    <tr style=\"text-align: right;\">\n",
              "      <th></th>\n",
              "      <th>Num_Cells_Strain1</th>\n",
              "      <th>Num_Cells_Strain2</th>\n",
              "      <th>t_deg</th>\n",
              "      <th>k_degA</th>\n",
              "      <th>k_degB</th>\n",
              "      <th>ratioS1</th>\n",
              "      <th>ratioS2</th>\n",
              "      <th>Stability</th>\n",
              "      <th>Survivors</th>\n",
              "    </tr>\n",
              "  </thead>\n",
              "  <tbody>\n",
              "    <tr>\n",
              "      <th>0</th>\n",
              "      <td>1.034227</td>\n",
              "      <td>-0.294811</td>\n",
              "      <td>-1.380622</td>\n",
              "      <td>-1.131165</td>\n",
              "      <td>-0.602826</td>\n",
              "      <td>0.463568</td>\n",
              "      <td>-0.565492</td>\n",
              "      <td>-1.258491</td>\n",
              "      <td>1.366675</td>\n",
              "    </tr>\n",
              "    <tr>\n",
              "      <th>1</th>\n",
              "      <td>1.034227</td>\n",
              "      <td>-0.294811</td>\n",
              "      <td>-1.380622</td>\n",
              "      <td>-1.131165</td>\n",
              "      <td>-0.602826</td>\n",
              "      <td>0.463568</td>\n",
              "      <td>-0.565492</td>\n",
              "      <td>-1.258491</td>\n",
              "      <td>-1.436131</td>\n",
              "    </tr>\n",
              "    <tr>\n",
              "      <th>2</th>\n",
              "      <td>1.034227</td>\n",
              "      <td>-0.294811</td>\n",
              "      <td>-1.380622</td>\n",
              "      <td>-1.131165</td>\n",
              "      <td>-0.602826</td>\n",
              "      <td>0.463568</td>\n",
              "      <td>-0.565492</td>\n",
              "      <td>-1.258491</td>\n",
              "      <td>-0.735430</td>\n",
              "    </tr>\n",
              "    <tr>\n",
              "      <th>3</th>\n",
              "      <td>1.034227</td>\n",
              "      <td>-0.294811</td>\n",
              "      <td>-1.380622</td>\n",
              "      <td>-1.131165</td>\n",
              "      <td>-0.602826</td>\n",
              "      <td>0.463568</td>\n",
              "      <td>-0.565492</td>\n",
              "      <td>-1.258491</td>\n",
              "      <td>-0.034728</td>\n",
              "    </tr>\n",
              "    <tr>\n",
              "      <th>4</th>\n",
              "      <td>1.034227</td>\n",
              "      <td>-0.294811</td>\n",
              "      <td>-1.380622</td>\n",
              "      <td>-1.131165</td>\n",
              "      <td>-0.602826</td>\n",
              "      <td>0.463568</td>\n",
              "      <td>-0.565492</td>\n",
              "      <td>-1.258491</td>\n",
              "      <td>0.665973</td>\n",
              "    </tr>\n",
              "    <tr>\n",
              "      <th>...</th>\n",
              "      <td>...</td>\n",
              "      <td>...</td>\n",
              "      <td>...</td>\n",
              "      <td>...</td>\n",
              "      <td>...</td>\n",
              "      <td>...</td>\n",
              "      <td>...</td>\n",
              "      <td>...</td>\n",
              "      <td>...</td>\n",
              "    </tr>\n",
              "    <tr>\n",
              "      <th>8671</th>\n",
              "      <td>1.034227</td>\n",
              "      <td>0.045772</td>\n",
              "      <td>0.499306</td>\n",
              "      <td>-1.131165</td>\n",
              "      <td>-0.602826</td>\n",
              "      <td>0.649462</td>\n",
              "      <td>-0.253746</td>\n",
              "      <td>-1.258491</td>\n",
              "      <td>0.665973</td>\n",
              "    </tr>\n",
              "    <tr>\n",
              "      <th>8672</th>\n",
              "      <td>1.034227</td>\n",
              "      <td>0.045772</td>\n",
              "      <td>0.499306</td>\n",
              "      <td>-1.131165</td>\n",
              "      <td>-0.602826</td>\n",
              "      <td>0.649462</td>\n",
              "      <td>-0.253746</td>\n",
              "      <td>-1.258491</td>\n",
              "      <td>1.366675</td>\n",
              "    </tr>\n",
              "    <tr>\n",
              "      <th>8673</th>\n",
              "      <td>1.034227</td>\n",
              "      <td>0.045772</td>\n",
              "      <td>1.282610</td>\n",
              "      <td>-1.131165</td>\n",
              "      <td>-0.602826</td>\n",
              "      <td>0.649462</td>\n",
              "      <td>-0.253746</td>\n",
              "      <td>-1.623530</td>\n",
              "      <td>-0.034728</td>\n",
              "    </tr>\n",
              "    <tr>\n",
              "      <th>8674</th>\n",
              "      <td>1.034227</td>\n",
              "      <td>0.045772</td>\n",
              "      <td>1.282610</td>\n",
              "      <td>-1.131165</td>\n",
              "      <td>-0.602826</td>\n",
              "      <td>0.649462</td>\n",
              "      <td>-0.253746</td>\n",
              "      <td>-1.623530</td>\n",
              "      <td>0.665973</td>\n",
              "    </tr>\n",
              "    <tr>\n",
              "      <th>8675</th>\n",
              "      <td>1.034227</td>\n",
              "      <td>0.045772</td>\n",
              "      <td>1.282610</td>\n",
              "      <td>-1.131165</td>\n",
              "      <td>-0.602826</td>\n",
              "      <td>0.649462</td>\n",
              "      <td>-0.253746</td>\n",
              "      <td>-1.623530</td>\n",
              "      <td>1.366675</td>\n",
              "    </tr>\n",
              "  </tbody>\n",
              "</table>\n",
              "<p>8676 rows × 9 columns</p>\n",
              "</div>"
            ],
            "text/plain": [
              "      Num_Cells_Strain1  Num_Cells_Strain2  ...  Stability  Survivors\n",
              "0              1.034227          -0.294811  ...  -1.258491   1.366675\n",
              "1              1.034227          -0.294811  ...  -1.258491  -1.436131\n",
              "2              1.034227          -0.294811  ...  -1.258491  -0.735430\n",
              "3              1.034227          -0.294811  ...  -1.258491  -0.034728\n",
              "4              1.034227          -0.294811  ...  -1.258491   0.665973\n",
              "...                 ...                ...  ...        ...        ...\n",
              "8671           1.034227           0.045772  ...  -1.258491   0.665973\n",
              "8672           1.034227           0.045772  ...  -1.258491   1.366675\n",
              "8673           1.034227           0.045772  ...  -1.623530  -0.034728\n",
              "8674           1.034227           0.045772  ...  -1.623530   0.665973\n",
              "8675           1.034227           0.045772  ...  -1.623530   1.366675\n",
              "\n",
              "[8676 rows x 9 columns]"
            ]
          },
          "metadata": {},
          "execution_count": 10
        }
      ]
    },
    {
      "cell_type": "code",
      "metadata": {
        "colab": {
          "base_uri": "https://localhost:8080/",
          "height": 446
        },
        "id": "9_3k6DZUEeUl",
        "outputId": "a8550e48-d88e-4dd6-bdb5-56f155d80e65"
      },
      "source": [
        "normalized_ds.boxplot(figsize=(20,7))"
      ],
      "execution_count": null,
      "outputs": [
        {
          "output_type": "execute_result",
          "data": {
            "text/plain": [
              "<matplotlib.axes._subplots.AxesSubplot at 0x7f4e09097d10>"
            ]
          },
          "metadata": {},
          "execution_count": 11
        },
        {
          "output_type": "display_data",
          "data": {
            "image/png": "[encoded data removed]",
            "text/plain": [
              "<Figure size 1440x504 with 1 Axes>"
            ]
          },
          "metadata": {
            "needs_background": "light"
          }
        }
      ]
    },
    {
      "cell_type": "code",
      "metadata": {
        "colab": {
          "base_uri": "https://localhost:8080/",
          "height": 424
        },
        "id": "-S_PN9a6E_Di",
        "outputId": "6043a76e-9bbe-406f-ea43-1b1654b48a5a"
      },
      "source": [
        "standardized_ds = pd.DataFrame (minmax_scale (dataset.drop (columns=\"New_Stability\"), axis=0, copy=True),columns=dataset.drop (columns=\"New_Stability\").columns) \n",
        "standardized_ds"
      ],
      "execution_count": null,
      "outputs": [
        {
          "output_type": "execute_result",
          "data": {
            "text/html": [
              "<div>\n",
              "<style scoped>\n",
              "    .dataframe tbody tr th:only-of-type {\n",
              "        vertical-align: middle;\n",
              "    }\n",
              "\n",
              "    .dataframe tbody tr th {\n",
              "        vertical-align: top;\n",
              "    }\n",
              "\n",
              "    .dataframe thead th {\n",
              "        text-align: right;\n",
              "    }\n",
              "</style>\n",
              "<table border=\"1\" class=\"dataframe\">\n",
              "  <thead>\n",
              "    <tr style=\"text-align: right;\">\n",
              "      <th></th>\n",
              "      <th>Num_Cells_Strain1</th>\n",
              "      <th>Num_Cells_Strain2</th>\n",
              "      <th>t_deg</th>\n",
              "      <th>k_degA</th>\n",
              "      <th>k_degB</th>\n",
              "      <th>ratioS1</th>\n",
              "      <th>ratioS2</th>\n",
              "      <th>Stability</th>\n",
              "      <th>Survivors</th>\n",
              "    </tr>\n",
              "  </thead>\n",
              "  <tbody>\n",
              "    <tr>\n",
              "      <th>0</th>\n",
              "      <td>0.777778</td>\n",
              "      <td>0.333333</td>\n",
              "      <td>0.000000</td>\n",
              "      <td>0.0</td>\n",
              "      <td>0.0</td>\n",
              "      <td>0.646649</td>\n",
              "      <td>0.330775</td>\n",
              "      <td>0.2</td>\n",
              "      <td>1.00</td>\n",
              "    </tr>\n",
              "    <tr>\n",
              "      <th>1</th>\n",
              "      <td>0.777778</td>\n",
              "      <td>0.333333</td>\n",
              "      <td>0.000000</td>\n",
              "      <td>0.0</td>\n",
              "      <td>0.0</td>\n",
              "      <td>0.646649</td>\n",
              "      <td>0.330775</td>\n",
              "      <td>0.2</td>\n",
              "      <td>0.00</td>\n",
              "    </tr>\n",
              "    <tr>\n",
              "      <th>2</th>\n",
              "      <td>0.777778</td>\n",
              "      <td>0.333333</td>\n",
              "      <td>0.000000</td>\n",
              "      <td>0.0</td>\n",
              "      <td>0.0</td>\n",
              "      <td>0.646649</td>\n",
              "      <td>0.330775</td>\n",
              "      <td>0.2</td>\n",
              "      <td>0.25</td>\n",
              "    </tr>\n",
              "    <tr>\n",
              "      <th>3</th>\n",
              "      <td>0.777778</td>\n",
              "      <td>0.333333</td>\n",
              "      <td>0.000000</td>\n",
              "      <td>0.0</td>\n",
              "      <td>0.0</td>\n",
              "      <td>0.646649</td>\n",
              "      <td>0.330775</td>\n",
              "      <td>0.2</td>\n",
              "      <td>0.50</td>\n",
              "    </tr>\n",
              "    <tr>\n",
              "      <th>4</th>\n",
              "      <td>0.777778</td>\n",
              "      <td>0.333333</td>\n",
              "      <td>0.000000</td>\n",
              "      <td>0.0</td>\n",
              "      <td>0.0</td>\n",
              "      <td>0.646649</td>\n",
              "      <td>0.330775</td>\n",
              "      <td>0.2</td>\n",
              "      <td>0.75</td>\n",
              "    </tr>\n",
              "    <tr>\n",
              "      <th>...</th>\n",
              "      <td>...</td>\n",
              "      <td>...</td>\n",
              "      <td>...</td>\n",
              "      <td>...</td>\n",
              "      <td>...</td>\n",
              "      <td>...</td>\n",
              "      <td>...</td>\n",
              "      <td>...</td>\n",
              "      <td>...</td>\n",
              "    </tr>\n",
              "    <tr>\n",
              "      <th>8671</th>\n",
              "      <td>0.777778</td>\n",
              "      <td>0.444444</td>\n",
              "      <td>0.705882</td>\n",
              "      <td>0.0</td>\n",
              "      <td>0.0</td>\n",
              "      <td>0.697652</td>\n",
              "      <td>0.407885</td>\n",
              "      <td>0.2</td>\n",
              "      <td>0.75</td>\n",
              "    </tr>\n",
              "    <tr>\n",
              "      <th>8672</th>\n",
              "      <td>0.777778</td>\n",
              "      <td>0.444444</td>\n",
              "      <td>0.705882</td>\n",
              "      <td>0.0</td>\n",
              "      <td>0.0</td>\n",
              "      <td>0.697652</td>\n",
              "      <td>0.407885</td>\n",
              "      <td>0.2</td>\n",
              "      <td>1.00</td>\n",
              "    </tr>\n",
              "    <tr>\n",
              "      <th>8673</th>\n",
              "      <td>0.777778</td>\n",
              "      <td>0.444444</td>\n",
              "      <td>1.000000</td>\n",
              "      <td>0.0</td>\n",
              "      <td>0.0</td>\n",
              "      <td>0.697652</td>\n",
              "      <td>0.407885</td>\n",
              "      <td>0.1</td>\n",
              "      <td>0.50</td>\n",
              "    </tr>\n",
              "    <tr>\n",
              "      <th>8674</th>\n",
              "      <td>0.777778</td>\n",
              "      <td>0.444444</td>\n",
              "      <td>1.000000</td>\n",
              "      <td>0.0</td>\n",
              "      <td>0.0</td>\n",
              "      <td>0.697652</td>\n",
              "      <td>0.407885</td>\n",
              "      <td>0.1</td>\n",
              "      <td>0.75</td>\n",
              "    </tr>\n",
              "    <tr>\n",
              "      <th>8675</th>\n",
              "      <td>0.777778</td>\n",
              "      <td>0.444444</td>\n",
              "      <td>1.000000</td>\n",
              "      <td>0.0</td>\n",
              "      <td>0.0</td>\n",
              "      <td>0.697652</td>\n",
              "      <td>0.407885</td>\n",
              "      <td>0.1</td>\n",
              "      <td>1.00</td>\n",
              "    </tr>\n",
              "  </tbody>\n",
              "</table>\n",
              "<p>8676 rows × 9 columns</p>\n",
              "</div>"
            ],
            "text/plain": [
              "      Num_Cells_Strain1  Num_Cells_Strain2  ...  Stability  Survivors\n",
              "0              0.777778           0.333333  ...        0.2       1.00\n",
              "1              0.777778           0.333333  ...        0.2       0.00\n",
              "2              0.777778           0.333333  ...        0.2       0.25\n",
              "3              0.777778           0.333333  ...        0.2       0.50\n",
              "4              0.777778           0.333333  ...        0.2       0.75\n",
              "...                 ...                ...  ...        ...        ...\n",
              "8671           0.777778           0.444444  ...        0.2       0.75\n",
              "8672           0.777778           0.444444  ...        0.2       1.00\n",
              "8673           0.777778           0.444444  ...        0.1       0.50\n",
              "8674           0.777778           0.444444  ...        0.1       0.75\n",
              "8675           0.777778           0.444444  ...        0.1       1.00\n",
              "\n",
              "[8676 rows x 9 columns]"
            ]
          },
          "metadata": {},
          "execution_count": 12
        }
      ]
    },
    {
      "cell_type": "code",
      "metadata": {
        "colab": {
          "base_uri": "https://localhost:8080/",
          "height": 446
        },
        "id": "0zhkzjSZFITS",
        "outputId": "22baa97b-6c69-4238-8eab-0823bd8e9540"
      },
      "source": [
        "standardized_ds.boxplot(figsize=(20,7))"
      ],
      "execution_count": null,
      "outputs": [
        {
          "output_type": "execute_result",
          "data": {
            "text/plain": [
              "<matplotlib.axes._subplots.AxesSubplot at 0x7f4e08f19d50>"
            ]
          },
          "metadata": {},
          "execution_count": 13
        },
        {
          "output_type": "display_data",
          "data": {
            "image/png": "[encoded data removed]",
            "text/plain": [
              "<Figure size 1440x504 with 1 Axes>"
            ]
          },
          "metadata": {
            "needs_background": "light"
          }
        }
      ]
    },
    {
      "cell_type": "markdown",
      "metadata": {
        "id": "ttP7D9vPGkjh"
      },
      "source": [
        "Both boxplot figures show the existence of really few outliers. We proceed to curate the data.\n",
        "**We study each attribute** and apply modifications to outliers to get them into the normal distribution. No lo hago porque no me hace falta."
      ]
    },
    {
      "cell_type": "markdown",
      "metadata": {
        "id": "QV2-83BpHObu"
      },
      "source": [
        "Let's see the **correlation matrix** and **descriptive statistics** on the dataset. The **correlation matrix** permits to visualize dependencies between pairs of attributes: values close to -1 or +1 indicate a high correlation. A negative correlation value means than when the value of an attribute gets high, the value of the other attribute decreases, and vice-versa. Positive correlation values point out that both features increase or decrease simultaneously. "
      ]
    },
    {
      "cell_type": "code",
      "metadata": {
        "colab": {
          "base_uri": "https://localhost:8080/",
          "height": 362
        },
        "id": "8WzYW3iaFgpG",
        "outputId": "b5079862-802f-4ffd-bcdc-c8a8fb01e5c1"
      },
      "source": [
        "dataset.corr()"
      ],
      "execution_count": null,
      "outputs": [
        {
          "output_type": "execute_result",
          "data": {
            "text/html": [
              "<div>\n",
              "<style scoped>\n",
              "    .dataframe tbody tr th:only-of-type {\n",
              "        vertical-align: middle;\n",
              "    }\n",
              "\n",
              "    .dataframe tbody tr th {\n",
              "        vertical-align: top;\n",
              "    }\n",
              "\n",
              "    .dataframe thead th {\n",
              "        text-align: right;\n",
              "    }\n",
              "</style>\n",
              "<table border=\"1\" class=\"dataframe\">\n",
              "  <thead>\n",
              "    <tr style=\"text-align: right;\">\n",
              "      <th></th>\n",
              "      <th>Num_Cells_Strain1</th>\n",
              "      <th>Num_Cells_Strain2</th>\n",
              "      <th>t_deg</th>\n",
              "      <th>k_degA</th>\n",
              "      <th>k_degB</th>\n",
              "      <th>ratioS1</th>\n",
              "      <th>ratioS2</th>\n",
              "      <th>Stability</th>\n",
              "      <th>Survivors</th>\n",
              "      <th>New_Stability</th>\n",
              "    </tr>\n",
              "  </thead>\n",
              "  <tbody>\n",
              "    <tr>\n",
              "      <th>Num_Cells_Strain1</th>\n",
              "      <td>1.000000</td>\n",
              "      <td>-0.271122</td>\n",
              "      <td>-0.005806</td>\n",
              "      <td>-0.052551</td>\n",
              "      <td>-0.118788</td>\n",
              "      <td>0.542305</td>\n",
              "      <td>-0.192366</td>\n",
              "      <td>0.028688</td>\n",
              "      <td>-0.005631</td>\n",
              "      <td>0.082534</td>\n",
              "    </tr>\n",
              "    <tr>\n",
              "      <th>Num_Cells_Strain2</th>\n",
              "      <td>-0.271122</td>\n",
              "      <td>1.000000</td>\n",
              "      <td>0.003079</td>\n",
              "      <td>-0.048207</td>\n",
              "      <td>-0.012949</td>\n",
              "      <td>-0.201203</td>\n",
              "      <td>0.495748</td>\n",
              "      <td>0.047086</td>\n",
              "      <td>-0.002674</td>\n",
              "      <td>0.122564</td>\n",
              "    </tr>\n",
              "    <tr>\n",
              "      <th>t_deg</th>\n",
              "      <td>-0.005806</td>\n",
              "      <td>0.003079</td>\n",
              "      <td>1.000000</td>\n",
              "      <td>0.027731</td>\n",
              "      <td>-0.018694</td>\n",
              "      <td>-0.003433</td>\n",
              "      <td>-0.001405</td>\n",
              "      <td>0.063072</td>\n",
              "      <td>0.001360</td>\n",
              "      <td>0.044016</td>\n",
              "    </tr>\n",
              "    <tr>\n",
              "      <th>k_degA</th>\n",
              "      <td>-0.052551</td>\n",
              "      <td>-0.048207</td>\n",
              "      <td>0.027731</td>\n",
              "      <td>1.000000</td>\n",
              "      <td>0.440470</td>\n",
              "      <td>-0.084122</td>\n",
              "      <td>-0.076929</td>\n",
              "      <td>0.312319</td>\n",
              "      <td>-0.004600</td>\n",
              "      <td>0.154757</td>\n",
              "    </tr>\n",
              "    <tr>\n",
              "      <th>k_degB</th>\n",
              "      <td>-0.118788</td>\n",
              "      <td>-0.012949</td>\n",
              "      <td>-0.018694</td>\n",
              "      <td>0.440470</td>\n",
              "      <td>1.000000</td>\n",
              "      <td>-0.126178</td>\n",
              "      <td>-0.068900</td>\n",
              "      <td>0.098700</td>\n",
              "      <td>-0.001300</td>\n",
              "      <td>0.200545</td>\n",
              "    </tr>\n",
              "    <tr>\n",
              "      <th>ratioS1</th>\n",
              "      <td>0.542305</td>\n",
              "      <td>-0.201203</td>\n",
              "      <td>-0.003433</td>\n",
              "      <td>-0.084122</td>\n",
              "      <td>-0.126178</td>\n",
              "      <td>1.000000</td>\n",
              "      <td>-0.235115</td>\n",
              "      <td>0.027823</td>\n",
              "      <td>-0.006047</td>\n",
              "      <td>0.108921</td>\n",
              "    </tr>\n",
              "    <tr>\n",
              "      <th>ratioS2</th>\n",
              "      <td>-0.192366</td>\n",
              "      <td>0.495748</td>\n",
              "      <td>-0.001405</td>\n",
              "      <td>-0.076929</td>\n",
              "      <td>-0.068900</td>\n",
              "      <td>-0.235115</td>\n",
              "      <td>1.000000</td>\n",
              "      <td>0.095733</td>\n",
              "      <td>-0.001665</td>\n",
              "      <td>0.169656</td>\n",
              "    </tr>\n",
              "    <tr>\n",
              "      <th>Stability</th>\n",
              "      <td>0.028688</td>\n",
              "      <td>0.047086</td>\n",
              "      <td>0.063072</td>\n",
              "      <td>0.312319</td>\n",
              "      <td>0.098700</td>\n",
              "      <td>0.027823</td>\n",
              "      <td>0.095733</td>\n",
              "      <td>1.000000</td>\n",
              "      <td>-0.007502</td>\n",
              "      <td>0.522295</td>\n",
              "    </tr>\n",
              "    <tr>\n",
              "      <th>Survivors</th>\n",
              "      <td>-0.005631</td>\n",
              "      <td>-0.002674</td>\n",
              "      <td>0.001360</td>\n",
              "      <td>-0.004600</td>\n",
              "      <td>-0.001300</td>\n",
              "      <td>-0.006047</td>\n",
              "      <td>-0.001665</td>\n",
              "      <td>-0.007502</td>\n",
              "      <td>1.000000</td>\n",
              "      <td>-0.192073</td>\n",
              "    </tr>\n",
              "    <tr>\n",
              "      <th>New_Stability</th>\n",
              "      <td>0.082534</td>\n",
              "      <td>0.122564</td>\n",
              "      <td>0.044016</td>\n",
              "      <td>0.154757</td>\n",
              "      <td>0.200545</td>\n",
              "      <td>0.108921</td>\n",
              "      <td>0.169656</td>\n",
              "      <td>0.522295</td>\n",
              "      <td>-0.192073</td>\n",
              "      <td>1.000000</td>\n",
              "    </tr>\n",
              "  </tbody>\n",
              "</table>\n",
              "</div>"
            ],
            "text/plain": [
              "                   Num_Cells_Strain1  ...  New_Stability\n",
              "Num_Cells_Strain1           1.000000  ...       0.082534\n",
              "Num_Cells_Strain2          -0.271122  ...       0.122564\n",
              "t_deg                      -0.005806  ...       0.044016\n",
              "k_degA                     -0.052551  ...       0.154757\n",
              "k_degB                     -0.118788  ...       0.200545\n",
              "ratioS1                     0.542305  ...       0.108921\n",
              "ratioS2                    -0.192366  ...       0.169656\n",
              "Stability                   0.028688  ...       0.522295\n",
              "Survivors                  -0.005631  ...      -0.192073\n",
              "New_Stability               0.082534  ...       1.000000\n",
              "\n",
              "[10 rows x 10 columns]"
            ]
          },
          "metadata": {},
          "execution_count": 14
        }
      ]
    },
    {
      "cell_type": "code",
      "metadata": {
        "colab": {
          "base_uri": "https://localhost:8080/",
          "height": 300
        },
        "id": "lKSvNuylGgfv",
        "outputId": "521d7756-e11c-4a3d-89a3-424947ea270a"
      },
      "source": [
        "dataset.describe()"
      ],
      "execution_count": null,
      "outputs": [
        {
          "output_type": "execute_result",
          "data": {
            "text/html": [
              "<div>\n",
              "<style scoped>\n",
              "    .dataframe tbody tr th:only-of-type {\n",
              "        vertical-align: middle;\n",
              "    }\n",
              "\n",
              "    .dataframe tbody tr th {\n",
              "        vertical-align: top;\n",
              "    }\n",
              "\n",
              "    .dataframe thead th {\n",
              "        text-align: right;\n",
              "    }\n",
              "</style>\n",
              "<table border=\"1\" class=\"dataframe\">\n",
              "  <thead>\n",
              "    <tr style=\"text-align: right;\">\n",
              "      <th></th>\n",
              "      <th>Num_Cells_Strain1</th>\n",
              "      <th>Num_Cells_Strain2</th>\n",
              "      <th>t_deg</th>\n",
              "      <th>k_degA</th>\n",
              "      <th>k_degB</th>\n",
              "      <th>ratioS1</th>\n",
              "      <th>ratioS2</th>\n",
              "      <th>Stability</th>\n",
              "      <th>Survivors</th>\n",
              "      <th>New_Stability</th>\n",
              "    </tr>\n",
              "  </thead>\n",
              "  <tbody>\n",
              "    <tr>\n",
              "      <th>count</th>\n",
              "      <td>8676.000000</td>\n",
              "      <td>8676.000000</td>\n",
              "      <td>8676.000000</td>\n",
              "      <td>8676.000000</td>\n",
              "      <td>8676.000000</td>\n",
              "      <td>8676.000000</td>\n",
              "      <td>8676.000000</td>\n",
              "      <td>8676.000000</td>\n",
              "      <td>8676.000000</td>\n",
              "      <td>8676.000000</td>\n",
              "    </tr>\n",
              "    <tr>\n",
              "      <th>mean</th>\n",
              "      <td>5.002536</td>\n",
              "      <td>4.865606</td>\n",
              "      <td>29.625634</td>\n",
              "      <td>0.279115</td>\n",
              "      <td>0.360005</td>\n",
              "      <td>0.863056</td>\n",
              "      <td>0.831627</td>\n",
              "      <td>0.544756</td>\n",
              "      <td>0.509912</td>\n",
              "      <td>0.662794</td>\n",
              "    </tr>\n",
              "    <tr>\n",
              "      <th>std</th>\n",
              "      <td>2.898433</td>\n",
              "      <td>2.936313</td>\n",
              "      <td>12.767177</td>\n",
              "      <td>0.158355</td>\n",
              "      <td>0.099545</td>\n",
              "      <td>0.455863</td>\n",
              "      <td>0.437088</td>\n",
              "      <td>0.273959</td>\n",
              "      <td>0.285445</td>\n",
              "      <td>0.299107</td>\n",
              "    </tr>\n",
              "    <tr>\n",
              "      <th>min</th>\n",
              "      <td>1.000000</td>\n",
              "      <td>1.000000</td>\n",
              "      <td>12.000000</td>\n",
              "      <td>0.100000</td>\n",
              "      <td>0.300000</td>\n",
              "      <td>0.000000</td>\n",
              "      <td>0.000000</td>\n",
              "      <td>0.000000</td>\n",
              "      <td>0.100000</td>\n",
              "      <td>0.000000</td>\n",
              "    </tr>\n",
              "    <tr>\n",
              "      <th>25%</th>\n",
              "      <td>3.000000</td>\n",
              "      <td>2.000000</td>\n",
              "      <td>24.000000</td>\n",
              "      <td>0.100000</td>\n",
              "      <td>0.300000</td>\n",
              "      <td>0.695246</td>\n",
              "      <td>0.720724</td>\n",
              "      <td>0.300000</td>\n",
              "      <td>0.300000</td>\n",
              "      <td>0.400000</td>\n",
              "    </tr>\n",
              "    <tr>\n",
              "      <th>50%</th>\n",
              "      <td>5.000000</td>\n",
              "      <td>5.000000</td>\n",
              "      <td>36.000000</td>\n",
              "      <td>0.300000</td>\n",
              "      <td>0.300000</td>\n",
              "      <td>1.009548</td>\n",
              "      <td>0.944120</td>\n",
              "      <td>0.600000</td>\n",
              "      <td>0.500000</td>\n",
              "      <td>0.700000</td>\n",
              "    </tr>\n",
              "    <tr>\n",
              "      <th>75%</th>\n",
              "      <td>8.000000</td>\n",
              "      <td>7.000000</td>\n",
              "      <td>46.000000</td>\n",
              "      <td>0.300000</td>\n",
              "      <td>0.500000</td>\n",
              "      <td>1.157472</td>\n",
              "      <td>1.104084</td>\n",
              "      <td>0.800000</td>\n",
              "      <td>0.700000</td>\n",
              "      <td>1.000000</td>\n",
              "    </tr>\n",
              "    <tr>\n",
              "      <th>max</th>\n",
              "      <td>10.000000</td>\n",
              "      <td>10.000000</td>\n",
              "      <td>46.000000</td>\n",
              "      <td>0.600000</td>\n",
              "      <td>0.600000</td>\n",
              "      <td>1.661438</td>\n",
              "      <td>1.766977</td>\n",
              "      <td>1.000000</td>\n",
              "      <td>0.900000</td>\n",
              "      <td>1.000000</td>\n",
              "    </tr>\n",
              "  </tbody>\n",
              "</table>\n",
              "</div>"
            ],
            "text/plain": [
              "       Num_Cells_Strain1  Num_Cells_Strain2  ...    Survivors  New_Stability\n",
              "count        8676.000000        8676.000000  ...  8676.000000    8676.000000\n",
              "mean            5.002536           4.865606  ...     0.509912       0.662794\n",
              "std             2.898433           2.936313  ...     0.285445       0.299107\n",
              "min             1.000000           1.000000  ...     0.100000       0.000000\n",
              "25%             3.000000           2.000000  ...     0.300000       0.400000\n",
              "50%             5.000000           5.000000  ...     0.500000       0.700000\n",
              "75%             8.000000           7.000000  ...     0.700000       1.000000\n",
              "max            10.000000          10.000000  ...     0.900000       1.000000\n",
              "\n",
              "[8 rows x 10 columns]"
            ]
          },
          "metadata": {},
          "execution_count": 15
        }
      ]
    },
    {
      "cell_type": "code",
      "metadata": {
        "colab": {
          "base_uri": "https://localhost:8080/",
          "height": 386
        },
        "id": "IzVG6Qq2DESK",
        "outputId": "14a700a8-0eda-4e64-f3b4-91f61a69a793"
      },
      "source": [
        "sns.displot(dataset[\"ratioS1\"], kde=False, rug=True)"
      ],
      "execution_count": null,
      "outputs": [
        {
          "output_type": "execute_result",
          "data": {
            "text/plain": [
              "<seaborn.axisgrid.FacetGrid at 0x7f4e08f98f50>"
            ]
          },
          "metadata": {},
          "execution_count": 16
        },
        {
          "output_type": "display_data",
          "data": {
            "image/png": "[encoded data removed]",
            "text/plain": [
              "<Figure size 360x360 with 1 Axes>"
            ]
          },
          "metadata": {
            "needs_background": "light"
          }
        }
      ]
    },
    {
      "cell_type": "code",
      "metadata": {
        "colab": {
          "base_uri": "https://localhost:8080/",
          "height": 282
        },
        "id": "kXVdSDmdDGog",
        "outputId": "cf8234c9-4b22-4de5-ea8a-ed4dcb166bef"
      },
      "source": [
        "dataset.boxplot(column=['ratioS1'])"
      ],
      "execution_count": null,
      "outputs": [
        {
          "output_type": "execute_result",
          "data": {
            "text/plain": [
              "<matplotlib.axes._subplots.AxesSubplot at 0x7f4dff13d090>"
            ]
          },
          "metadata": {},
          "execution_count": 17
        },
        {
          "output_type": "display_data",
          "data": {
            "image/png": "[encoded data removed]",
            "text/plain": [
              "<Figure size 432x288 with 1 Axes>"
            ]
          },
          "metadata": {
            "needs_background": "light"
          }
        }
      ]
    },
    {
      "cell_type": "code",
      "metadata": {
        "colab": {
          "base_uri": "https://localhost:8080/"
        },
        "id": "s4FPezZuDOnl",
        "outputId": "0d736a9c-c240-4a04-d056-94651c82a44c"
      },
      "source": [
        "print(\"minimum: \",np.amin(dataset['ratioS1'].values), \"Maximum: \", np.amax(dataset['ratioS1'].values))"
      ],
      "execution_count": null,
      "outputs": [
        {
          "output_type": "stream",
          "name": "stdout",
          "text": [
            "minimum:  0.0 Maximum:  1.6614384627739052\n"
          ]
        }
      ]
    },
    {
      "cell_type": "code",
      "metadata": {
        "id": "3SRuc_VRDXwY"
      },
      "source": [
        "#dataset.loc[dataset['ratioS1'] < 0.25,'ratioS1']= 0.25\n",
        "#dataset.boxplot(column=['ratioS1'])"
      ],
      "execution_count": null,
      "outputs": []
    },
    {
      "cell_type": "code",
      "metadata": {
        "colab": {
          "base_uri": "https://localhost:8080/",
          "height": 386
        },
        "id": "buYVYCAmDhS5",
        "outputId": "80185fb5-5b18-4e24-b34e-2cde8f54bbcf"
      },
      "source": [
        "sns.displot(dataset[\"ratioS2\"], kde=False, rug=True)"
      ],
      "execution_count": null,
      "outputs": [
        {
          "output_type": "execute_result",
          "data": {
            "text/plain": [
              "<seaborn.axisgrid.FacetGrid at 0x7f4dff0acc50>"
            ]
          },
          "metadata": {},
          "execution_count": 20
        },
        {
          "output_type": "display_data",
          "data": {
            "image/png": "[encoded data removed]",
            "text/plain": [
              "<Figure size 360x360 with 1 Axes>"
            ]
          },
          "metadata": {
            "needs_background": "light"
          }
        }
      ]
    },
    {
      "cell_type": "code",
      "metadata": {
        "colab": {
          "base_uri": "https://localhost:8080/",
          "height": 282
        },
        "id": "Upq5LbF3DnIZ",
        "outputId": "a8c039bd-914c-4811-c08a-7f9f68eacadf"
      },
      "source": [
        "dataset.boxplot(column=['ratioS2'])"
      ],
      "execution_count": null,
      "outputs": [
        {
          "output_type": "execute_result",
          "data": {
            "text/plain": [
              "<matplotlib.axes._subplots.AxesSubplot at 0x7f4dfeba34d0>"
            ]
          },
          "metadata": {},
          "execution_count": 21
        },
        {
          "output_type": "display_data",
          "data": {
            "image/png": "[encoded data removed]",
            "text/plain": [
              "<Figure size 432x288 with 1 Axes>"
            ]
          },
          "metadata": {
            "needs_background": "light"
          }
        }
      ]
    },
    {
      "cell_type": "code",
      "metadata": {
        "colab": {
          "base_uri": "https://localhost:8080/"
        },
        "id": "cfBhu5DsDrRE",
        "outputId": "78b780d8-f293-4999-b030-45fd460e521b"
      },
      "source": [
        "print(\"minimum: \",np.amin(dataset['ratioS2'].values), \"Maximum: \", np.amax(dataset['ratioS2'].values))"
      ],
      "execution_count": null,
      "outputs": [
        {
          "output_type": "stream",
          "name": "stdout",
          "text": [
            "minimum:  0.0 Maximum:  1.7669774034133563\n"
          ]
        }
      ]
    },
    {
      "cell_type": "markdown",
      "metadata": {
        "id": "5uOjtxrTHrMS"
      },
      "source": [
        "Check how many instances per label there are and group them if necessary."
      ]
    },
    {
      "cell_type": "code",
      "metadata": {
        "colab": {
          "base_uri": "https://localhost:8080/"
        },
        "id": "gr80nysVHmfP",
        "outputId": "b4635b87-650a-4622-a7c3-09040a67588d"
      },
      "source": [
        "dataset[\"New_Stability\"].value_counts()"
      ],
      "execution_count": null,
      "outputs": [
        {
          "output_type": "execute_result",
          "data": {
            "text/plain": [
              "1.0    2322\n",
              "0.6     889\n",
              "0.5     847\n",
              "0.9     842\n",
              "0.7     790\n",
              "0.8     752\n",
              "0.4     722\n",
              "0.3     544\n",
              "0.2     403\n",
              "0.0     300\n",
              "0.1     265\n",
              "Name: New_Stability, dtype: int64"
            ]
          },
          "metadata": {},
          "execution_count": 23
        }
      ]
    },
    {
      "cell_type": "code",
      "metadata": {
        "colab": {
          "base_uri": "https://localhost:8080/"
        },
        "id": "NEDAngQ3D27l",
        "outputId": "d2d4260c-6d54-4b9f-bfcb-65996c9d3351"
      },
      "source": [
        "dataset.shape"
      ],
      "execution_count": null,
      "outputs": [
        {
          "output_type": "execute_result",
          "data": {
            "text/plain": [
              "(8676, 10)"
            ]
          },
          "metadata": {},
          "execution_count": 24
        }
      ]
    },
    {
      "cell_type": "code",
      "metadata": {
        "colab": {
          "base_uri": "https://localhost:8080/",
          "height": 206
        },
        "id": "GXCUZjdAD8Qb",
        "outputId": "bd935763-c1e9-4251-99ab-dd20c2789289"
      },
      "source": [
        "dataset=dataset.sample(frac=1) #frac is the fraction of axis items to return. 1 means all of them\n",
        "dataset=dataset.sample(frac=1)\n",
        "dataset=dataset.sample(frac=1).reset_index(drop=True) #Reset index and drop the old one\n",
        "dataset.head()"
      ],
      "execution_count": null,
      "outputs": [
        {
          "output_type": "execute_result",
          "data": {
            "text/html": [
              "<div>\n",
              "<style scoped>\n",
              "    .dataframe tbody tr th:only-of-type {\n",
              "        vertical-align: middle;\n",
              "    }\n",
              "\n",
              "    .dataframe tbody tr th {\n",
              "        vertical-align: top;\n",
              "    }\n",
              "\n",
              "    .dataframe thead th {\n",
              "        text-align: right;\n",
              "    }\n",
              "</style>\n",
              "<table border=\"1\" class=\"dataframe\">\n",
              "  <thead>\n",
              "    <tr style=\"text-align: right;\">\n",
              "      <th></th>\n",
              "      <th>Num_Cells_Strain1</th>\n",
              "      <th>Num_Cells_Strain2</th>\n",
              "      <th>t_deg</th>\n",
              "      <th>k_degA</th>\n",
              "      <th>k_degB</th>\n",
              "      <th>ratioS1</th>\n",
              "      <th>ratioS2</th>\n",
              "      <th>Stability</th>\n",
              "      <th>Survivors</th>\n",
              "      <th>New_Stability</th>\n",
              "    </tr>\n",
              "  </thead>\n",
              "  <tbody>\n",
              "    <tr>\n",
              "      <th>0</th>\n",
              "      <td>5</td>\n",
              "      <td>10</td>\n",
              "      <td>24</td>\n",
              "      <td>0.1</td>\n",
              "      <td>0.3</td>\n",
              "      <td>0.996185</td>\n",
              "      <td>0.722181</td>\n",
              "      <td>0.7</td>\n",
              "      <td>0.7</td>\n",
              "      <td>0.7</td>\n",
              "    </tr>\n",
              "    <tr>\n",
              "      <th>1</th>\n",
              "      <td>5</td>\n",
              "      <td>7</td>\n",
              "      <td>36</td>\n",
              "      <td>0.3</td>\n",
              "      <td>0.3</td>\n",
              "      <td>1.173652</td>\n",
              "      <td>0.731933</td>\n",
              "      <td>0.5</td>\n",
              "      <td>0.1</td>\n",
              "      <td>0.7</td>\n",
              "    </tr>\n",
              "    <tr>\n",
              "      <th>2</th>\n",
              "      <td>9</td>\n",
              "      <td>1</td>\n",
              "      <td>36</td>\n",
              "      <td>0.3</td>\n",
              "      <td>0.3</td>\n",
              "      <td>1.232240</td>\n",
              "      <td>0.000000</td>\n",
              "      <td>0.0</td>\n",
              "      <td>0.3</td>\n",
              "      <td>0.3</td>\n",
              "    </tr>\n",
              "    <tr>\n",
              "      <th>3</th>\n",
              "      <td>8</td>\n",
              "      <td>2</td>\n",
              "      <td>24</td>\n",
              "      <td>0.1</td>\n",
              "      <td>0.3</td>\n",
              "      <td>1.002342</td>\n",
              "      <td>1.262969</td>\n",
              "      <td>0.3</td>\n",
              "      <td>0.3</td>\n",
              "      <td>1.0</td>\n",
              "    </tr>\n",
              "    <tr>\n",
              "      <th>4</th>\n",
              "      <td>4</td>\n",
              "      <td>6</td>\n",
              "      <td>24</td>\n",
              "      <td>0.1</td>\n",
              "      <td>0.3</td>\n",
              "      <td>1.074125</td>\n",
              "      <td>0.943678</td>\n",
              "      <td>0.7</td>\n",
              "      <td>0.9</td>\n",
              "      <td>0.6</td>\n",
              "    </tr>\n",
              "  </tbody>\n",
              "</table>\n",
              "</div>"
            ],
            "text/plain": [
              "   Num_Cells_Strain1  Num_Cells_Strain2  ...  Survivors  New_Stability\n",
              "0                  5                 10  ...        0.7            0.7\n",
              "1                  5                  7  ...        0.1            0.7\n",
              "2                  9                  1  ...        0.3            0.3\n",
              "3                  8                  2  ...        0.3            1.0\n",
              "4                  4                  6  ...        0.9            0.6\n",
              "\n",
              "[5 rows x 10 columns]"
            ]
          },
          "metadata": {},
          "execution_count": 25
        }
      ]
    },
    {
      "cell_type": "code",
      "metadata": {
        "id": "pE0TOOu7EB3M"
      },
      "source": [
        "t = dataset['New_Stability']\n",
        "t[:10]\n",
        "\n",
        "#Guardamos t en el archivo continuous\n",
        "t.to_csv(CONTINUOUS_FILE_NAME, index = False)"
      ],
      "execution_count": null,
      "outputs": []
    },
    {
      "cell_type": "code",
      "metadata": {
        "colab": {
          "base_uri": "https://localhost:8080/"
        },
        "id": "H18HXqx_EQel",
        "outputId": "dcfefd5c-2fe8-41c8-fdd0-7d0781c8f9b9"
      },
      "source": [
        "# 6 LABELS #\n",
        "#dataset.loc[dataset['Stability'] == 0.1 ,'Stability']=0\n",
        "#dataset.loc[dataset['Stability'] == 0.2 ,'Stability']=0\n",
        "#dataset.loc[dataset['Stability'] == 0.4 ,'Stability']=0.3\n",
        "#dataset.loc[dataset['Stability'] == 0.6 ,'Stability']=0.7\n",
        "#dataset.loc[dataset['Stability'] == 0.8 ,'Stability']=0.9\n",
        "#dataset['Stability'].value_counts()\n",
        "\n",
        "# 4 LABELS #\n",
        "#dataset.loc[dataset['Stability'] == 0.1 ,'Stability']=0\n",
        "#dataset.loc[dataset['Stability'] == 0.2 ,'Stability']=0\n",
        "#dataset.loc[dataset['Stability'] == 0.3 ,'Stability']=0\n",
        "#dataset.loc[dataset['Stability'] == 0.4 ,'Stability']=0.5\n",
        "#dataset.loc[dataset['Stability'] == 0.6 ,'Stability']=0.5\n",
        "#dataset.loc[dataset['Stability'] == 0.8 ,'Stability']=0.7\n",
        "#dataset.loc[dataset['Stability'] == 0.9 ,'Stability']=1\n",
        "#dataset['Stability'].value_counts()\n",
        "\n",
        "# 2 CLASSES #\n",
        "dataset.loc[dataset['New_Stability'] < 1.0 ,'New_Stability'] =0\n",
        "dataset['New_Stability'].value_counts()"
      ],
      "execution_count": null,
      "outputs": [
        {
          "output_type": "execute_result",
          "data": {
            "text/plain": [
              "0.0    6354\n",
              "1.0    2322\n",
              "Name: New_Stability, dtype: int64"
            ]
          },
          "metadata": {},
          "execution_count": 27
        }
      ]
    },
    {
      "cell_type": "code",
      "metadata": {
        "id": "o-w1ybD7LdPF"
      },
      "source": [
        "#Stability 4 clases\n",
        "#dataset.loc[dataset['Stability'] == 0.1 ,'Stability']=0\n",
        "#dataset.loc[dataset['Stability'] == 0.2 ,'Stability']=0\n",
        "#dataset.loc[dataset['Stability'] == 0.3 ,'Stability']=0\n",
        "#dataset.loc[dataset['Stability'] == 0.4 ,'Stability']=0.5\n",
        "#dataset.loc[dataset['Stability'] == 0.6 ,'Stability']=0.5\n",
        "#dataset.loc[dataset['Stability'] == 0.8 ,'Stability']=0.7\n",
        "#dataset.loc[dataset['Stability'] == 0.9 ,'Stability']=1"
      ],
      "execution_count": null,
      "outputs": []
    },
    {
      "cell_type": "code",
      "metadata": {
        "colab": {
          "base_uri": "https://localhost:8080/"
        },
        "id": "S4mttm6QIeMF",
        "outputId": "76b6fd13-1470-4abf-b765-50d5d5f6e965"
      },
      "source": [
        "dataset.shape"
      ],
      "execution_count": null,
      "outputs": [
        {
          "output_type": "execute_result",
          "data": {
            "text/plain": [
              "(8676, 10)"
            ]
          },
          "metadata": {},
          "execution_count": 29
        }
      ]
    },
    {
      "cell_type": "code",
      "metadata": {
        "colab": {
          "base_uri": "https://localhost:8080/",
          "height": 206
        },
        "id": "9vugfruFEdyL",
        "outputId": "96c85fef-e94c-4f34-ebde-15a2dbd07864"
      },
      "source": [
        "t = dataset.New_Stability\n",
        "x = dataset.drop(columns='New_Stability')\n",
        "\n",
        "x.head()"
      ],
      "execution_count": null,
      "outputs": [
        {
          "output_type": "execute_result",
          "data": {
            "text/html": [
              "<div>\n",
              "<style scoped>\n",
              "    .dataframe tbody tr th:only-of-type {\n",
              "        vertical-align: middle;\n",
              "    }\n",
              "\n",
              "    .dataframe tbody tr th {\n",
              "        vertical-align: top;\n",
              "    }\n",
              "\n",
              "    .dataframe thead th {\n",
              "        text-align: right;\n",
              "    }\n",
              "</style>\n",
              "<table border=\"1\" class=\"dataframe\">\n",
              "  <thead>\n",
              "    <tr style=\"text-align: right;\">\n",
              "      <th></th>\n",
              "      <th>Num_Cells_Strain1</th>\n",
              "      <th>Num_Cells_Strain2</th>\n",
              "      <th>t_deg</th>\n",
              "      <th>k_degA</th>\n",
              "      <th>k_degB</th>\n",
              "      <th>ratioS1</th>\n",
              "      <th>ratioS2</th>\n",
              "      <th>Stability</th>\n",
              "      <th>Survivors</th>\n",
              "    </tr>\n",
              "  </thead>\n",
              "  <tbody>\n",
              "    <tr>\n",
              "      <th>0</th>\n",
              "      <td>5</td>\n",
              "      <td>10</td>\n",
              "      <td>24</td>\n",
              "      <td>0.1</td>\n",
              "      <td>0.3</td>\n",
              "      <td>0.996185</td>\n",
              "      <td>0.722181</td>\n",
              "      <td>0.7</td>\n",
              "      <td>0.7</td>\n",
              "    </tr>\n",
              "    <tr>\n",
              "      <th>1</th>\n",
              "      <td>5</td>\n",
              "      <td>7</td>\n",
              "      <td>36</td>\n",
              "      <td>0.3</td>\n",
              "      <td>0.3</td>\n",
              "      <td>1.173652</td>\n",
              "      <td>0.731933</td>\n",
              "      <td>0.5</td>\n",
              "      <td>0.1</td>\n",
              "    </tr>\n",
              "    <tr>\n",
              "      <th>2</th>\n",
              "      <td>9</td>\n",
              "      <td>1</td>\n",
              "      <td>36</td>\n",
              "      <td>0.3</td>\n",
              "      <td>0.3</td>\n",
              "      <td>1.232240</td>\n",
              "      <td>0.000000</td>\n",
              "      <td>0.0</td>\n",
              "      <td>0.3</td>\n",
              "    </tr>\n",
              "    <tr>\n",
              "      <th>3</th>\n",
              "      <td>8</td>\n",
              "      <td>2</td>\n",
              "      <td>24</td>\n",
              "      <td>0.1</td>\n",
              "      <td>0.3</td>\n",
              "      <td>1.002342</td>\n",
              "      <td>1.262969</td>\n",
              "      <td>0.3</td>\n",
              "      <td>0.3</td>\n",
              "    </tr>\n",
              "    <tr>\n",
              "      <th>4</th>\n",
              "      <td>4</td>\n",
              "      <td>6</td>\n",
              "      <td>24</td>\n",
              "      <td>0.1</td>\n",
              "      <td>0.3</td>\n",
              "      <td>1.074125</td>\n",
              "      <td>0.943678</td>\n",
              "      <td>0.7</td>\n",
              "      <td>0.9</td>\n",
              "    </tr>\n",
              "  </tbody>\n",
              "</table>\n",
              "</div>"
            ],
            "text/plain": [
              "   Num_Cells_Strain1  Num_Cells_Strain2  t_deg  ...   ratioS2  Stability  Survivors\n",
              "0                  5                 10     24  ...  0.722181        0.7        0.7\n",
              "1                  5                  7     36  ...  0.731933        0.5        0.1\n",
              "2                  9                  1     36  ...  0.000000        0.0        0.3\n",
              "3                  8                  2     24  ...  1.262969        0.3        0.3\n",
              "4                  4                  6     24  ...  0.943678        0.7        0.9\n",
              "\n",
              "[5 rows x 9 columns]"
            ]
          },
          "metadata": {},
          "execution_count": 30
        }
      ]
    },
    {
      "cell_type": "code",
      "metadata": {
        "id": "QCEf9xkSEphx"
      },
      "source": [
        "#Guardamos el continuous file 0 y 1\n",
        "t.to_csv(CONTINUOUS_2LABEL_FILE_NAME, index = False)"
      ],
      "execution_count": null,
      "outputs": []
    },
    {
      "cell_type": "markdown",
      "metadata": {
        "id": "LbqQveHDJY5P"
      },
      "source": [
        "One-hot encode the classes for a classification problem."
      ]
    },
    {
      "cell_type": "code",
      "metadata": {
        "colab": {
          "base_uri": "https://localhost:8080/"
        },
        "id": "RC_Dky5VJUdc",
        "outputId": "ceb04e47-71c8-4164-b7ff-94f086cb9433"
      },
      "source": [
        "names = np.array(['Unstable', 'Stable'])\n",
        "names"
      ],
      "execution_count": null,
      "outputs": [
        {
          "output_type": "execute_result",
          "data": {
            "text/plain": [
              "array(['Unstable', 'Stable'], dtype='<U8')"
            ]
          },
          "metadata": {},
          "execution_count": 32
        }
      ]
    },
    {
      "cell_type": "code",
      "metadata": {
        "colab": {
          "base_uri": "https://localhost:8080/"
        },
        "id": "2EbCb-NDKI0o",
        "outputId": "b44bbe40-6e97-49cc-9b1b-240daacd0618"
      },
      "source": [
        "encoder = OneHotEncoder(categories=\"auto\", sparse=False) # Function that one-hot encodes integers\n",
        "one_hot_t = encoder.fit_transform (t.values.reshape(-1,1))\n",
        "one_hot_t[:10]"
      ],
      "execution_count": null,
      "outputs": [
        {
          "output_type": "execute_result",
          "data": {
            "text/plain": [
              "array([[1., 0.],\n",
              "       [1., 0.],\n",
              "       [1., 0.],\n",
              "       [0., 1.],\n",
              "       [1., 0.],\n",
              "       [1., 0.],\n",
              "       [0., 1.],\n",
              "       [0., 1.],\n",
              "       [1., 0.],\n",
              "       [1., 0.]])"
            ]
          },
          "metadata": {},
          "execution_count": 33
        }
      ]
    },
    {
      "cell_type": "code",
      "metadata": {
        "colab": {
          "base_uri": "https://localhost:8080/",
          "height": 362
        },
        "id": "sWxKure4KQ5V",
        "outputId": "09f7f516-4d19-4e30-ab44-7a57001fed19"
      },
      "source": [
        "one_hot_t = pd.DataFrame(data=one_hot_t,columns=names)\n",
        "one_hot_t[:10]"
      ],
      "execution_count": null,
      "outputs": [
        {
          "output_type": "execute_result",
          "data": {
            "text/html": [
              "<div>\n",
              "<style scoped>\n",
              "    .dataframe tbody tr th:only-of-type {\n",
              "        vertical-align: middle;\n",
              "    }\n",
              "\n",
              "    .dataframe tbody tr th {\n",
              "        vertical-align: top;\n",
              "    }\n",
              "\n",
              "    .dataframe thead th {\n",
              "        text-align: right;\n",
              "    }\n",
              "</style>\n",
              "<table border=\"1\" class=\"dataframe\">\n",
              "  <thead>\n",
              "    <tr style=\"text-align: right;\">\n",
              "      <th></th>\n",
              "      <th>Unstable</th>\n",
              "      <th>Stable</th>\n",
              "    </tr>\n",
              "  </thead>\n",
              "  <tbody>\n",
              "    <tr>\n",
              "      <th>0</th>\n",
              "      <td>1.0</td>\n",
              "      <td>0.0</td>\n",
              "    </tr>\n",
              "    <tr>\n",
              "      <th>1</th>\n",
              "      <td>1.0</td>\n",
              "      <td>0.0</td>\n",
              "    </tr>\n",
              "    <tr>\n",
              "      <th>2</th>\n",
              "      <td>1.0</td>\n",
              "      <td>0.0</td>\n",
              "    </tr>\n",
              "    <tr>\n",
              "      <th>3</th>\n",
              "      <td>0.0</td>\n",
              "      <td>1.0</td>\n",
              "    </tr>\n",
              "    <tr>\n",
              "      <th>4</th>\n",
              "      <td>1.0</td>\n",
              "      <td>0.0</td>\n",
              "    </tr>\n",
              "    <tr>\n",
              "      <th>5</th>\n",
              "      <td>1.0</td>\n",
              "      <td>0.0</td>\n",
              "    </tr>\n",
              "    <tr>\n",
              "      <th>6</th>\n",
              "      <td>0.0</td>\n",
              "      <td>1.0</td>\n",
              "    </tr>\n",
              "    <tr>\n",
              "      <th>7</th>\n",
              "      <td>0.0</td>\n",
              "      <td>1.0</td>\n",
              "    </tr>\n",
              "    <tr>\n",
              "      <th>8</th>\n",
              "      <td>1.0</td>\n",
              "      <td>0.0</td>\n",
              "    </tr>\n",
              "    <tr>\n",
              "      <th>9</th>\n",
              "      <td>1.0</td>\n",
              "      <td>0.0</td>\n",
              "    </tr>\n",
              "  </tbody>\n",
              "</table>\n",
              "</div>"
            ],
            "text/plain": [
              "   Unstable  Stable\n",
              "0       1.0     0.0\n",
              "1       1.0     0.0\n",
              "2       1.0     0.0\n",
              "3       0.0     1.0\n",
              "4       1.0     0.0\n",
              "5       1.0     0.0\n",
              "6       0.0     1.0\n",
              "7       0.0     1.0\n",
              "8       1.0     0.0\n",
              "9       1.0     0.0"
            ]
          },
          "metadata": {},
          "execution_count": 34
        }
      ]
    },
    {
      "cell_type": "markdown",
      "metadata": {
        "id": "O8TsFu2nKf7r"
      },
      "source": [
        "Min-max scale of the input dataset (attributes) within the range [-1,1] for each feature independently."
      ]
    },
    {
      "cell_type": "code",
      "metadata": {
        "id": "tyoMS0HUtVht",
        "colab": {
          "base_uri": "https://localhost:8080/"
        },
        "outputId": "0dd2b546-ec09-435c-bdb3-8d7d04e32c03"
      },
      "source": [
        "print(\"ratioS1: Minimum: \",np.amin(dataset['ratioS1'].values), \"Maximum: \", np.amax(dataset['ratioS1'].values))\n",
        "print(\"ratioS2: Minimum: \",np.amin(dataset['ratioS2'].values), \"Maximum: \", np.amax(dataset['ratioS2'].values))\n",
        "print(\"Num_Cells_Strain1: Minimum: \",np.amin(dataset['Num_Cells_Strain1'].values), \"Maximum: \", np.amax(dataset['Num_Cells_Strain1'].values))\n",
        "print(\"Num_Cells_Strain2: Minimum: \",np.amin(dataset['Num_Cells_Strain2'].values), \"Maximum: \", np.amax(dataset['Num_Cells_Strain2'].values))\n",
        "print(\"t_deg: Minimum: \",np.amin(dataset['t_deg'].values), \"Maximum: \", np.amax(dataset['t_deg'].values))\n",
        "print(\"k_degA: Minimum: \",np.amin(dataset['k_degA'].values), \"Maximum: \", np.amax(dataset['k_degA'].values))\n",
        "print(\"k_degB: Minimum: \",np.amin(dataset['k_degB'].values), \"Maximum: \", np.amax(dataset['k_degB'].values))"
      ],
      "execution_count": null,
      "outputs": [
        {
          "output_type": "stream",
          "name": "stdout",
          "text": [
            "ratioS1: Minimum:  0.0 Maximum:  1.6614384627739052\n",
            "ratioS2: Minimum:  0.0 Maximum:  1.7669774034133563\n",
            "Num_Cells_Strain1: Minimum:  1 Maximum:  10\n",
            "Num_Cells_Strain2: Minimum:  1 Maximum:  10\n",
            "t_deg: Minimum:  12 Maximum:  46\n",
            "k_degA: Minimum:  0.1 Maximum:  0.6\n",
            "k_degB: Minimum:  0.3 Maximum:  0.6\n"
          ]
        }
      ]
    },
    {
      "cell_type": "markdown",
      "metadata": {
        "id": "nsurR8TZtUq1"
      },
      "source": [
        ""
      ]
    },
    {
      "cell_type": "code",
      "metadata": {
        "colab": {
          "base_uri": "https://localhost:8080/",
          "height": 362
        },
        "id": "0iRiwvW5KiKh",
        "outputId": "c0ba01bd-2d17-4717-ed27-cb46fa43bd79"
      },
      "source": [
        "x_s = pd.DataFrame (minmax_scale (x, feature_range=(-1, 1),axis=0, copy=True),columns=x.columns) \n",
        "x_s[:10]"
      ],
      "execution_count": null,
      "outputs": [
        {
          "output_type": "execute_result",
          "data": {
            "text/html": [
              "<div>\n",
              "<style scoped>\n",
              "    .dataframe tbody tr th:only-of-type {\n",
              "        vertical-align: middle;\n",
              "    }\n",
              "\n",
              "    .dataframe tbody tr th {\n",
              "        vertical-align: top;\n",
              "    }\n",
              "\n",
              "    .dataframe thead th {\n",
              "        text-align: right;\n",
              "    }\n",
              "</style>\n",
              "<table border=\"1\" class=\"dataframe\">\n",
              "  <thead>\n",
              "    <tr style=\"text-align: right;\">\n",
              "      <th></th>\n",
              "      <th>Num_Cells_Strain1</th>\n",
              "      <th>Num_Cells_Strain2</th>\n",
              "      <th>t_deg</th>\n",
              "      <th>k_degA</th>\n",
              "      <th>k_degB</th>\n",
              "      <th>ratioS1</th>\n",
              "      <th>ratioS2</th>\n",
              "      <th>Stability</th>\n",
              "      <th>Survivors</th>\n",
              "    </tr>\n",
              "  </thead>\n",
              "  <tbody>\n",
              "    <tr>\n",
              "      <th>0</th>\n",
              "      <td>-0.333333</td>\n",
              "      <td>-0.333333</td>\n",
              "      <td>1.000000</td>\n",
              "      <td>-0.2</td>\n",
              "      <td>-1.000000</td>\n",
              "      <td>0.344356</td>\n",
              "      <td>0.073814</td>\n",
              "      <td>0.6</td>\n",
              "      <td>0.5</td>\n",
              "    </tr>\n",
              "    <tr>\n",
              "      <th>1</th>\n",
              "      <td>0.333333</td>\n",
              "      <td>0.333333</td>\n",
              "      <td>-1.000000</td>\n",
              "      <td>-1.0</td>\n",
              "      <td>-1.000000</td>\n",
              "      <td>-0.063478</td>\n",
              "      <td>0.336672</td>\n",
              "      <td>0.4</td>\n",
              "      <td>-1.0</td>\n",
              "    </tr>\n",
              "    <tr>\n",
              "      <th>2</th>\n",
              "      <td>0.777778</td>\n",
              "      <td>-0.111111</td>\n",
              "      <td>-0.294118</td>\n",
              "      <td>-0.2</td>\n",
              "      <td>-1.000000</td>\n",
              "      <td>0.261183</td>\n",
              "      <td>0.126745</td>\n",
              "      <td>0.0</td>\n",
              "      <td>0.5</td>\n",
              "    </tr>\n",
              "    <tr>\n",
              "      <th>3</th>\n",
              "      <td>0.111111</td>\n",
              "      <td>-1.000000</td>\n",
              "      <td>-1.000000</td>\n",
              "      <td>-1.0</td>\n",
              "      <td>-1.000000</td>\n",
              "      <td>0.215270</td>\n",
              "      <td>-1.000000</td>\n",
              "      <td>-0.6</td>\n",
              "      <td>0.5</td>\n",
              "    </tr>\n",
              "    <tr>\n",
              "      <th>4</th>\n",
              "      <td>-0.111111</td>\n",
              "      <td>-0.777778</td>\n",
              "      <td>0.411765</td>\n",
              "      <td>-0.2</td>\n",
              "      <td>-1.000000</td>\n",
              "      <td>0.452209</td>\n",
              "      <td>0.454191</td>\n",
              "      <td>-0.4</td>\n",
              "      <td>0.0</td>\n",
              "    </tr>\n",
              "    <tr>\n",
              "      <th>5</th>\n",
              "      <td>-0.777778</td>\n",
              "      <td>0.333333</td>\n",
              "      <td>0.411765</td>\n",
              "      <td>-0.2</td>\n",
              "      <td>0.333333</td>\n",
              "      <td>-0.230960</td>\n",
              "      <td>0.397655</td>\n",
              "      <td>-0.6</td>\n",
              "      <td>1.0</td>\n",
              "    </tr>\n",
              "    <tr>\n",
              "      <th>6</th>\n",
              "      <td>0.555556</td>\n",
              "      <td>-1.000000</td>\n",
              "      <td>-0.294118</td>\n",
              "      <td>-0.2</td>\n",
              "      <td>0.333333</td>\n",
              "      <td>-0.163080</td>\n",
              "      <td>-1.000000</td>\n",
              "      <td>0.8</td>\n",
              "      <td>1.0</td>\n",
              "    </tr>\n",
              "    <tr>\n",
              "      <th>7</th>\n",
              "      <td>0.555556</td>\n",
              "      <td>-0.111111</td>\n",
              "      <td>1.000000</td>\n",
              "      <td>-1.0</td>\n",
              "      <td>-1.000000</td>\n",
              "      <td>0.246572</td>\n",
              "      <td>0.064818</td>\n",
              "      <td>0.4</td>\n",
              "      <td>0.0</td>\n",
              "    </tr>\n",
              "    <tr>\n",
              "      <th>8</th>\n",
              "      <td>0.555556</td>\n",
              "      <td>-0.555556</td>\n",
              "      <td>-0.294118</td>\n",
              "      <td>-0.2</td>\n",
              "      <td>0.333333</td>\n",
              "      <td>0.381748</td>\n",
              "      <td>0.203914</td>\n",
              "      <td>-0.4</td>\n",
              "      <td>1.0</td>\n",
              "    </tr>\n",
              "    <tr>\n",
              "      <th>9</th>\n",
              "      <td>1.000000</td>\n",
              "      <td>-0.555556</td>\n",
              "      <td>-0.294118</td>\n",
              "      <td>-0.2</td>\n",
              "      <td>-1.000000</td>\n",
              "      <td>0.455938</td>\n",
              "      <td>0.231981</td>\n",
              "      <td>-0.4</td>\n",
              "      <td>0.5</td>\n",
              "    </tr>\n",
              "  </tbody>\n",
              "</table>\n",
              "</div>"
            ],
            "text/plain": [
              "   Num_Cells_Strain1  Num_Cells_Strain2  ...  Stability  Survivors\n",
              "0          -0.333333          -0.333333  ...        0.6        0.5\n",
              "1           0.333333           0.333333  ...        0.4       -1.0\n",
              "2           0.777778          -0.111111  ...        0.0        0.5\n",
              "3           0.111111          -1.000000  ...       -0.6        0.5\n",
              "4          -0.111111          -0.777778  ...       -0.4        0.0\n",
              "5          -0.777778           0.333333  ...       -0.6        1.0\n",
              "6           0.555556          -1.000000  ...        0.8        1.0\n",
              "7           0.555556          -0.111111  ...        0.4        0.0\n",
              "8           0.555556          -0.555556  ...       -0.4        1.0\n",
              "9           1.000000          -0.555556  ...       -0.4        0.5\n",
              "\n",
              "[10 rows x 9 columns]"
            ]
          },
          "metadata": {},
          "execution_count": 35
        }
      ]
    },
    {
      "cell_type": "code",
      "metadata": {
        "id": "8GMjZ5iJKsqB"
      },
      "source": [
        "x_s.to_csv(ATT_FILE_NAME, index=False)\n",
        "one_hot_t.to_csv(ONE_HOT_ENCODED_CLASSES_FILE_NAME, index=False)"
      ],
      "execution_count": null,
      "outputs": []
    }
  ]
}