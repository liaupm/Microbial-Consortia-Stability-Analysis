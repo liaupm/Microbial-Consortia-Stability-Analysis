{
  "nbformat": 4,
  "nbformat_minor": 0,
  "metadata": {
    "colab": {
      "name": "CleanDataset.ipynb",
      "provenance": []
    },
    "kernelspec": {
      "display_name": "Python 3",
      "name": "python3"
    },
    "language_info": {
      "name": "python"
    }
  },
  "cells": [
    {
      "cell_type": "code",
      "metadata": {
        "colab": {
          "base_uri": "https://localhost:8080/"
        },
        "id": "jBxp4GOxCkjm",
        "outputId": "79a368a5-ac6b-4bef-f8b6-a35256ba40c0"
      },
      "source": [
        "import numpy as np\n",
        "import pandas as pd\n",
        "\n",
        "from sklearn.preprocessing import LabelEncoder, OneHotEncoder, minmax_scale, scale\n",
        "\n",
        "import matplotlib.pyplot as plt\n",
        "import seaborn as sns\n",
        "import bokeh as bk\n",
        "\n",
        "from google.colab import drive\n",
        "drive.mount('/gdrive', force_remount=True)"
      ],
      "execution_count": null,
      "outputs": [
        {
          "output_type": "stream",
          "name": "stdout",
          "text": [
            "Mounted at /gdrive\n"
          ]
        }
      ]
    },
    {
      "cell_type": "code",
      "metadata": {
        "id": "w6bk-TaFCvHM"
      },
      "source": [
        "INPUT_FILE_NAME = \"/gdrive/My Drive/Colab Notebooks/TFM/training_dataset.csv\"\n",
        "ATT_FILE_NAME = \"/gdrive/My Drive/Colab Notebooks/TFM/training_dataset_clean.csv\"\n",
        "ONE_HOT_ENCODED_2CLASSES_FILE_NAME = \"/gdrive/My Drive/Colab Notebooks/TFM/training_dataset_onehot_2clases.csv\"\n",
        "CONTINUOUS_FILE_NAME = \"/gdrive/My Drive/Colab Notebooks/TFM/training_dataset_continuous.csv\""
      ],
      "execution_count": null,
      "outputs": []
    },
    {
      "cell_type": "code",
      "metadata": {
        "colab": {
          "base_uri": "https://localhost:8080/"
        },
        "id": "ggCBoQmKDCRM",
        "outputId": "2778a41e-91cd-4926-cf32-f91b9c42ffa8"
      },
      "source": [
        "dataset = pd.read_csv(INPUT_FILE_NAME)\n",
        "dataset.columns"
      ],
      "execution_count": null,
      "outputs": [
        {
          "output_type": "execute_result",
          "data": {
            "text/plain": [
              "Index(['Unnamed: 0', 'Num_Cells_Strain1', 'Num_Cells_Strain2', 't_deg',\n",
              "       'k_degA', 'k_degB', 'ratioS1', 'ratioS2', 'posS1', 'posS2',\n",
              "       'Stability'],\n",
              "      dtype='object')"
            ]
          },
          "metadata": {},
          "execution_count": 3
        }
      ]
    },
    {
      "cell_type": "code",
      "metadata": {
        "colab": {
          "base_uri": "https://localhost:8080/"
        },
        "id": "SxYD2EWuP-aD",
        "outputId": "3f9f0db1-97a3-4da5-95cd-e9ae774d8ea4"
      },
      "source": [
        "dataset = dataset.drop(['Unnamed: 0', 'posS1', 'posS2'], axis=1)\n",
        "dataset.info()"
      ],
      "execution_count": null,
      "outputs": [
        {
          "output_type": "stream",
          "name": "stdout",
          "text": [
            "<class 'pandas.core.frame.DataFrame'>\n",
            "RangeIndex: 5167 entries, 0 to 5166\n",
            "Data columns (total 8 columns):\n",
            " #   Column             Non-Null Count  Dtype  \n",
            "---  ------             --------------  -----  \n",
            " 0   Num_Cells_Strain1  5167 non-null   int64  \n",
            " 1   Num_Cells_Strain2  5167 non-null   int64  \n",
            " 2   t_deg              5167 non-null   int64  \n",
            " 3   k_degA             5167 non-null   float64\n",
            " 4   k_degB             5167 non-null   float64\n",
            " 5   ratioS1            5166 non-null   float64\n",
            " 6   ratioS2            5166 non-null   float64\n",
            " 7   Stability          5167 non-null   float64\n",
            "dtypes: float64(5), int64(3)\n",
            "memory usage: 323.1 KB\n"
          ]
        }
      ]
    },
    {
      "cell_type": "code",
      "metadata": {
        "colab": {
          "base_uri": "https://localhost:8080/",
          "height": 362
        },
        "id": "zJ7PF0B5DUF0",
        "outputId": "2af87f1a-a90b-4c60-8060-041db30b922d"
      },
      "source": [
        "dataset[:10]"
      ],
      "execution_count": null,
      "outputs": [
        {
          "output_type": "execute_result",
          "data": {
            "text/html": [
              "<div>\n",
              "<style scoped>\n",
              "    .dataframe tbody tr th:only-of-type {\n",
              "        vertical-align: middle;\n",
              "    }\n",
              "\n",
              "    .dataframe tbody tr th {\n",
              "        vertical-align: top;\n",
              "    }\n",
              "\n",
              "    .dataframe thead th {\n",
              "        text-align: right;\n",
              "    }\n",
              "</style>\n",
              "<table border=\"1\" class=\"dataframe\">\n",
              "  <thead>\n",
              "    <tr style=\"text-align: right;\">\n",
              "      <th></th>\n",
              "      <th>Num_Cells_Strain1</th>\n",
              "      <th>Num_Cells_Strain2</th>\n",
              "      <th>t_deg</th>\n",
              "      <th>k_degA</th>\n",
              "      <th>k_degB</th>\n",
              "      <th>ratioS1</th>\n",
              "      <th>ratioS2</th>\n",
              "      <th>Stability</th>\n",
              "    </tr>\n",
              "  </thead>\n",
              "  <tbody>\n",
              "    <tr>\n",
              "      <th>0</th>\n",
              "      <td>8</td>\n",
              "      <td>4</td>\n",
              "      <td>12</td>\n",
              "      <td>0.1</td>\n",
              "      <td>0.3</td>\n",
              "      <td>1.074368</td>\n",
              "      <td>0.584471</td>\n",
              "      <td>0.2</td>\n",
              "    </tr>\n",
              "    <tr>\n",
              "      <th>1</th>\n",
              "      <td>8</td>\n",
              "      <td>4</td>\n",
              "      <td>24</td>\n",
              "      <td>0.1</td>\n",
              "      <td>0.6</td>\n",
              "      <td>1.074368</td>\n",
              "      <td>0.584471</td>\n",
              "      <td>1.0</td>\n",
              "    </tr>\n",
              "    <tr>\n",
              "      <th>2</th>\n",
              "      <td>8</td>\n",
              "      <td>4</td>\n",
              "      <td>46</td>\n",
              "      <td>0.5</td>\n",
              "      <td>0.3</td>\n",
              "      <td>1.177532</td>\n",
              "      <td>0.926172</td>\n",
              "      <td>1.0</td>\n",
              "    </tr>\n",
              "    <tr>\n",
              "      <th>3</th>\n",
              "      <td>8</td>\n",
              "      <td>4</td>\n",
              "      <td>12</td>\n",
              "      <td>0.5</td>\n",
              "      <td>0.5</td>\n",
              "      <td>1.177532</td>\n",
              "      <td>0.926172</td>\n",
              "      <td>1.0</td>\n",
              "    </tr>\n",
              "    <tr>\n",
              "      <th>4</th>\n",
              "      <td>8</td>\n",
              "      <td>4</td>\n",
              "      <td>24</td>\n",
              "      <td>0.5</td>\n",
              "      <td>0.5</td>\n",
              "      <td>1.177532</td>\n",
              "      <td>0.926172</td>\n",
              "      <td>1.0</td>\n",
              "    </tr>\n",
              "    <tr>\n",
              "      <th>5</th>\n",
              "      <td>8</td>\n",
              "      <td>4</td>\n",
              "      <td>36</td>\n",
              "      <td>0.5</td>\n",
              "      <td>0.5</td>\n",
              "      <td>1.177532</td>\n",
              "      <td>0.926172</td>\n",
              "      <td>1.0</td>\n",
              "    </tr>\n",
              "    <tr>\n",
              "      <th>6</th>\n",
              "      <td>8</td>\n",
              "      <td>4</td>\n",
              "      <td>46</td>\n",
              "      <td>0.5</td>\n",
              "      <td>0.5</td>\n",
              "      <td>1.177532</td>\n",
              "      <td>0.926172</td>\n",
              "      <td>1.0</td>\n",
              "    </tr>\n",
              "    <tr>\n",
              "      <th>7</th>\n",
              "      <td>8</td>\n",
              "      <td>4</td>\n",
              "      <td>12</td>\n",
              "      <td>0.5</td>\n",
              "      <td>0.6</td>\n",
              "      <td>1.177532</td>\n",
              "      <td>0.926172</td>\n",
              "      <td>1.0</td>\n",
              "    </tr>\n",
              "    <tr>\n",
              "      <th>8</th>\n",
              "      <td>8</td>\n",
              "      <td>4</td>\n",
              "      <td>24</td>\n",
              "      <td>0.5</td>\n",
              "      <td>0.6</td>\n",
              "      <td>1.177532</td>\n",
              "      <td>0.926172</td>\n",
              "      <td>1.0</td>\n",
              "    </tr>\n",
              "    <tr>\n",
              "      <th>9</th>\n",
              "      <td>8</td>\n",
              "      <td>4</td>\n",
              "      <td>36</td>\n",
              "      <td>0.5</td>\n",
              "      <td>0.6</td>\n",
              "      <td>1.177532</td>\n",
              "      <td>0.926172</td>\n",
              "      <td>1.0</td>\n",
              "    </tr>\n",
              "  </tbody>\n",
              "</table>\n",
              "</div>"
            ],
            "text/plain": [
              "   Num_Cells_Strain1  Num_Cells_Strain2  t_deg  ...   ratioS1   ratioS2  Stability\n",
              "0                  8                  4     12  ...  1.074368  0.584471        0.2\n",
              "1                  8                  4     24  ...  1.074368  0.584471        1.0\n",
              "2                  8                  4     46  ...  1.177532  0.926172        1.0\n",
              "3                  8                  4     12  ...  1.177532  0.926172        1.0\n",
              "4                  8                  4     24  ...  1.177532  0.926172        1.0\n",
              "5                  8                  4     36  ...  1.177532  0.926172        1.0\n",
              "6                  8                  4     46  ...  1.177532  0.926172        1.0\n",
              "7                  8                  4     12  ...  1.177532  0.926172        1.0\n",
              "8                  8                  4     24  ...  1.177532  0.926172        1.0\n",
              "9                  8                  4     36  ...  1.177532  0.926172        1.0\n",
              "\n",
              "[10 rows x 8 columns]"
            ]
          },
          "metadata": {},
          "execution_count": 5
        }
      ]
    },
    {
      "cell_type": "code",
      "metadata": {
        "colab": {
          "base_uri": "https://localhost:8080/",
          "height": 362
        },
        "id": "OHh8HsmYDiX6",
        "outputId": "5cf4573c-acc9-41b7-a919-086f56297aa5"
      },
      "source": [
        "dataset[-10:]"
      ],
      "execution_count": null,
      "outputs": [
        {
          "output_type": "execute_result",
          "data": {
            "text/html": [
              "<div>\n",
              "<style scoped>\n",
              "    .dataframe tbody tr th:only-of-type {\n",
              "        vertical-align: middle;\n",
              "    }\n",
              "\n",
              "    .dataframe tbody tr th {\n",
              "        vertical-align: top;\n",
              "    }\n",
              "\n",
              "    .dataframe thead th {\n",
              "        text-align: right;\n",
              "    }\n",
              "</style>\n",
              "<table border=\"1\" class=\"dataframe\">\n",
              "  <thead>\n",
              "    <tr style=\"text-align: right;\">\n",
              "      <th></th>\n",
              "      <th>Num_Cells_Strain1</th>\n",
              "      <th>Num_Cells_Strain2</th>\n",
              "      <th>t_deg</th>\n",
              "      <th>k_degA</th>\n",
              "      <th>k_degB</th>\n",
              "      <th>ratioS1</th>\n",
              "      <th>ratioS2</th>\n",
              "      <th>Stability</th>\n",
              "    </tr>\n",
              "  </thead>\n",
              "  <tbody>\n",
              "    <tr>\n",
              "      <th>5157</th>\n",
              "      <td>7</td>\n",
              "      <td>9</td>\n",
              "      <td>12</td>\n",
              "      <td>0.6</td>\n",
              "      <td>0.6</td>\n",
              "      <td>1000.0</td>\n",
              "      <td>1000.0</td>\n",
              "      <td>1.0</td>\n",
              "    </tr>\n",
              "    <tr>\n",
              "      <th>5158</th>\n",
              "      <td>7</td>\n",
              "      <td>9</td>\n",
              "      <td>24</td>\n",
              "      <td>0.6</td>\n",
              "      <td>0.6</td>\n",
              "      <td>1000.0</td>\n",
              "      <td>1000.0</td>\n",
              "      <td>1.0</td>\n",
              "    </tr>\n",
              "    <tr>\n",
              "      <th>5159</th>\n",
              "      <td>7</td>\n",
              "      <td>9</td>\n",
              "      <td>36</td>\n",
              "      <td>0.6</td>\n",
              "      <td>0.6</td>\n",
              "      <td>1000.0</td>\n",
              "      <td>1000.0</td>\n",
              "      <td>1.0</td>\n",
              "    </tr>\n",
              "    <tr>\n",
              "      <th>5160</th>\n",
              "      <td>7</td>\n",
              "      <td>9</td>\n",
              "      <td>46</td>\n",
              "      <td>0.6</td>\n",
              "      <td>0.6</td>\n",
              "      <td>1000.0</td>\n",
              "      <td>1000.0</td>\n",
              "      <td>1.0</td>\n",
              "    </tr>\n",
              "    <tr>\n",
              "      <th>5161</th>\n",
              "      <td>7</td>\n",
              "      <td>9</td>\n",
              "      <td>46</td>\n",
              "      <td>0.1</td>\n",
              "      <td>0.3</td>\n",
              "      <td>1000.0</td>\n",
              "      <td>1000.0</td>\n",
              "      <td>0.8</td>\n",
              "    </tr>\n",
              "    <tr>\n",
              "      <th>5162</th>\n",
              "      <td>7</td>\n",
              "      <td>9</td>\n",
              "      <td>12</td>\n",
              "      <td>0.1</td>\n",
              "      <td>0.5</td>\n",
              "      <td>1000.0</td>\n",
              "      <td>1000.0</td>\n",
              "      <td>1.0</td>\n",
              "    </tr>\n",
              "    <tr>\n",
              "      <th>5163</th>\n",
              "      <td>7</td>\n",
              "      <td>9</td>\n",
              "      <td>24</td>\n",
              "      <td>0.1</td>\n",
              "      <td>0.5</td>\n",
              "      <td>1000.0</td>\n",
              "      <td>1000.0</td>\n",
              "      <td>1.0</td>\n",
              "    </tr>\n",
              "    <tr>\n",
              "      <th>5164</th>\n",
              "      <td>7</td>\n",
              "      <td>9</td>\n",
              "      <td>36</td>\n",
              "      <td>0.1</td>\n",
              "      <td>0.5</td>\n",
              "      <td>1000.0</td>\n",
              "      <td>1000.0</td>\n",
              "      <td>1.0</td>\n",
              "    </tr>\n",
              "    <tr>\n",
              "      <th>5165</th>\n",
              "      <td>7</td>\n",
              "      <td>9</td>\n",
              "      <td>46</td>\n",
              "      <td>0.1</td>\n",
              "      <td>0.5</td>\n",
              "      <td>1000.0</td>\n",
              "      <td>1000.0</td>\n",
              "      <td>1.0</td>\n",
              "    </tr>\n",
              "    <tr>\n",
              "      <th>5166</th>\n",
              "      <td>7</td>\n",
              "      <td>9</td>\n",
              "      <td>12</td>\n",
              "      <td>0.1</td>\n",
              "      <td>0.6</td>\n",
              "      <td>1000.0</td>\n",
              "      <td>1000.0</td>\n",
              "      <td>1.0</td>\n",
              "    </tr>\n",
              "  </tbody>\n",
              "</table>\n",
              "</div>"
            ],
            "text/plain": [
              "      Num_Cells_Strain1  Num_Cells_Strain2  t_deg  ...  ratioS1  ratioS2  Stability\n",
              "5157                  7                  9     12  ...   1000.0   1000.0        1.0\n",
              "5158                  7                  9     24  ...   1000.0   1000.0        1.0\n",
              "5159                  7                  9     36  ...   1000.0   1000.0        1.0\n",
              "5160                  7                  9     46  ...   1000.0   1000.0        1.0\n",
              "5161                  7                  9     46  ...   1000.0   1000.0        0.8\n",
              "5162                  7                  9     12  ...   1000.0   1000.0        1.0\n",
              "5163                  7                  9     24  ...   1000.0   1000.0        1.0\n",
              "5164                  7                  9     36  ...   1000.0   1000.0        1.0\n",
              "5165                  7                  9     46  ...   1000.0   1000.0        1.0\n",
              "5166                  7                  9     12  ...   1000.0   1000.0        1.0\n",
              "\n",
              "[10 rows x 8 columns]"
            ]
          },
          "metadata": {},
          "execution_count": 6
        }
      ]
    },
    {
      "cell_type": "markdown",
      "metadata": {
        "id": "0Pz2_p5eDpf9"
      },
      "source": [
        "**First Step:** find out whether or not there are missing values. "
      ]
    },
    {
      "cell_type": "code",
      "metadata": {
        "colab": {
          "base_uri": "https://localhost:8080/"
        },
        "id": "nog_ypupDmlM",
        "outputId": "49dc71f0-4650-4486-a3d0-f2559b453ac1"
      },
      "source": [
        "{att : dataset[dataset[att].isnull()].shape[0] for att in dataset.columns}\n",
        "\n"
      ],
      "execution_count": null,
      "outputs": [
        {
          "output_type": "execute_result",
          "data": {
            "text/plain": [
              "{'Num_Cells_Strain1': 0,\n",
              " 'Num_Cells_Strain2': 0,\n",
              " 'Stability': 0,\n",
              " 'k_degA': 0,\n",
              " 'k_degB': 0,\n",
              " 'ratioS1': 1,\n",
              " 'ratioS2': 1,\n",
              " 't_deg': 0}"
            ]
          },
          "metadata": {},
          "execution_count": 7
        }
      ]
    },
    {
      "cell_type": "markdown",
      "metadata": {
        "id": "38fD4r7xsEZV"
      },
      "source": [
        "Missing values are replaced by a 3 (ratio higher in comparison to the highest)"
      ]
    },
    {
      "cell_type": "code",
      "metadata": {
        "id": "T6EynFJmswQo"
      },
      "source": [
        "dataset = dataset.fillna(3)\n",
        "dataset['ratioS1'] = dataset['ratioS1'].replace([1000], 3)\n",
        "dataset['ratioS2'] = dataset['ratioS2'].replace([1000], 3)"
      ],
      "execution_count": null,
      "outputs": []
    },
    {
      "cell_type": "markdown",
      "metadata": {
        "id": "XM3z4_5fD6Y9"
      },
      "source": [
        "**Second Step**: Check outliers and scale data. There are several actions to consider regarding outliers:\n",
        "\n",
        "\n",
        "1.   **Scale** each attribute based on its mean and standard deviation (normalization). This approach may produce values larger than 1 or lower than -1.\n",
        "2.   **Remove** rows containing outliers; at least some of them. The disadvantage is that we do not have so many examples in the dataset.\n",
        "3.   **Curate** data by modifying outliers."
      ]
    },
    {
      "cell_type": "code",
      "metadata": {
        "colab": {
          "base_uri": "https://localhost:8080/",
          "height": 424
        },
        "id": "lNKAbRGxD8um",
        "outputId": "83a0e467-eb73-4000-97ec-23593420bbbe"
      },
      "source": [
        "normalized_ds = pd.DataFrame (scale (dataset.drop (columns='Stability'), axis=0, copy=True),columns=dataset.drop (columns='Stability').columns) \n",
        "normalized_ds"
      ],
      "execution_count": null,
      "outputs": [
        {
          "output_type": "execute_result",
          "data": {
            "text/html": [
              "<div>\n",
              "<style scoped>\n",
              "    .dataframe tbody tr th:only-of-type {\n",
              "        vertical-align: middle;\n",
              "    }\n",
              "\n",
              "    .dataframe tbody tr th {\n",
              "        vertical-align: top;\n",
              "    }\n",
              "\n",
              "    .dataframe thead th {\n",
              "        text-align: right;\n",
              "    }\n",
              "</style>\n",
              "<table border=\"1\" class=\"dataframe\">\n",
              "  <thead>\n",
              "    <tr style=\"text-align: right;\">\n",
              "      <th></th>\n",
              "      <th>Num_Cells_Strain1</th>\n",
              "      <th>Num_Cells_Strain2</th>\n",
              "      <th>t_deg</th>\n",
              "      <th>k_degA</th>\n",
              "      <th>k_degB</th>\n",
              "      <th>ratioS1</th>\n",
              "      <th>ratioS2</th>\n",
              "    </tr>\n",
              "  </thead>\n",
              "  <tbody>\n",
              "    <tr>\n",
              "      <th>0</th>\n",
              "      <td>0.961867</td>\n",
              "      <td>-0.410241</td>\n",
              "      <td>-1.371018</td>\n",
              "      <td>-1.141528</td>\n",
              "      <td>-1.334850</td>\n",
              "      <td>0.337716</td>\n",
              "      <td>-0.721899</td>\n",
              "    </tr>\n",
              "    <tr>\n",
              "      <th>1</th>\n",
              "      <td>0.961867</td>\n",
              "      <td>-0.410241</td>\n",
              "      <td>-0.430470</td>\n",
              "      <td>-1.141528</td>\n",
              "      <td>1.070021</td>\n",
              "      <td>0.337716</td>\n",
              "      <td>-0.721899</td>\n",
              "    </tr>\n",
              "    <tr>\n",
              "      <th>2</th>\n",
              "      <td>0.961867</td>\n",
              "      <td>-0.410241</td>\n",
              "      <td>1.293868</td>\n",
              "      <td>0.908620</td>\n",
              "      <td>-1.334850</td>\n",
              "      <td>0.564425</td>\n",
              "      <td>0.081307</td>\n",
              "    </tr>\n",
              "    <tr>\n",
              "      <th>3</th>\n",
              "      <td>0.961867</td>\n",
              "      <td>-0.410241</td>\n",
              "      <td>-1.371018</td>\n",
              "      <td>0.908620</td>\n",
              "      <td>0.268397</td>\n",
              "      <td>0.564425</td>\n",
              "      <td>0.081307</td>\n",
              "    </tr>\n",
              "    <tr>\n",
              "      <th>4</th>\n",
              "      <td>0.961867</td>\n",
              "      <td>-0.410241</td>\n",
              "      <td>-0.430470</td>\n",
              "      <td>0.908620</td>\n",
              "      <td>0.268397</td>\n",
              "      <td>0.564425</td>\n",
              "      <td>0.081307</td>\n",
              "    </tr>\n",
              "    <tr>\n",
              "      <th>...</th>\n",
              "      <td>...</td>\n",
              "      <td>...</td>\n",
              "      <td>...</td>\n",
              "      <td>...</td>\n",
              "      <td>...</td>\n",
              "      <td>...</td>\n",
              "      <td>...</td>\n",
              "    </tr>\n",
              "    <tr>\n",
              "      <th>5162</th>\n",
              "      <td>0.610260</td>\n",
              "      <td>1.377039</td>\n",
              "      <td>-1.371018</td>\n",
              "      <td>-1.141528</td>\n",
              "      <td>0.268397</td>\n",
              "      <td>4.569403</td>\n",
              "      <td>4.956066</td>\n",
              "    </tr>\n",
              "    <tr>\n",
              "      <th>5163</th>\n",
              "      <td>0.610260</td>\n",
              "      <td>1.377039</td>\n",
              "      <td>-0.430470</td>\n",
              "      <td>-1.141528</td>\n",
              "      <td>0.268397</td>\n",
              "      <td>4.569403</td>\n",
              "      <td>4.956066</td>\n",
              "    </tr>\n",
              "    <tr>\n",
              "      <th>5164</th>\n",
              "      <td>0.610260</td>\n",
              "      <td>1.377039</td>\n",
              "      <td>0.510078</td>\n",
              "      <td>-1.141528</td>\n",
              "      <td>0.268397</td>\n",
              "      <td>4.569403</td>\n",
              "      <td>4.956066</td>\n",
              "    </tr>\n",
              "    <tr>\n",
              "      <th>5165</th>\n",
              "      <td>0.610260</td>\n",
              "      <td>1.377039</td>\n",
              "      <td>1.293868</td>\n",
              "      <td>-1.141528</td>\n",
              "      <td>0.268397</td>\n",
              "      <td>4.569403</td>\n",
              "      <td>4.956066</td>\n",
              "    </tr>\n",
              "    <tr>\n",
              "      <th>5166</th>\n",
              "      <td>0.610260</td>\n",
              "      <td>1.377039</td>\n",
              "      <td>-1.371018</td>\n",
              "      <td>-1.141528</td>\n",
              "      <td>1.070021</td>\n",
              "      <td>4.569403</td>\n",
              "      <td>4.956066</td>\n",
              "    </tr>\n",
              "  </tbody>\n",
              "</table>\n",
              "<p>5167 rows × 7 columns</p>\n",
              "</div>"
            ],
            "text/plain": [
              "      Num_Cells_Strain1  Num_Cells_Strain2  ...   ratioS1   ratioS2\n",
              "0              0.961867          -0.410241  ...  0.337716 -0.721899\n",
              "1              0.961867          -0.410241  ...  0.337716 -0.721899\n",
              "2              0.961867          -0.410241  ...  0.564425  0.081307\n",
              "3              0.961867          -0.410241  ...  0.564425  0.081307\n",
              "4              0.961867          -0.410241  ...  0.564425  0.081307\n",
              "...                 ...                ...  ...       ...       ...\n",
              "5162           0.610260           1.377039  ...  4.569403  4.956066\n",
              "5163           0.610260           1.377039  ...  4.569403  4.956066\n",
              "5164           0.610260           1.377039  ...  4.569403  4.956066\n",
              "5165           0.610260           1.377039  ...  4.569403  4.956066\n",
              "5166           0.610260           1.377039  ...  4.569403  4.956066\n",
              "\n",
              "[5167 rows x 7 columns]"
            ]
          },
          "metadata": {},
          "execution_count": 9
        }
      ]
    },
    {
      "cell_type": "code",
      "metadata": {
        "colab": {
          "base_uri": "https://localhost:8080/",
          "height": 446
        },
        "id": "9_3k6DZUEeUl",
        "outputId": "1e2d6f3a-ed11-4a7c-dab1-bccb50bc0d3c"
      },
      "source": [
        "normalized_ds.boxplot(figsize=(20,7))"
      ],
      "execution_count": null,
      "outputs": [
        {
          "output_type": "execute_result",
          "data": {
            "text/plain": [
              "<matplotlib.axes._subplots.AxesSubplot at 0x7f36ff93dc90>"
            ]
          },
          "metadata": {},
          "execution_count": 10
        },
        {
          "output_type": "display_data",
          "data": {
            "image/png": "[encoded data removed]",
            "text/plain": [
              "<Figure size 1440x504 with 1 Axes>"
            ]
          },
          "metadata": {
            "needs_background": "light"
          }
        }
      ]
    },
    {
      "cell_type": "code",
      "metadata": {
        "colab": {
          "base_uri": "https://localhost:8080/",
          "height": 424
        },
        "id": "-S_PN9a6E_Di",
        "outputId": "d44041e5-0820-4a77-99be-895446656bb2"
      },
      "source": [
        "standardized_ds = pd.DataFrame (minmax_scale (dataset.drop (columns='Stability'), axis=0, copy=True),columns=dataset.drop (columns='Stability').columns) \n",
        "standardized_ds"
      ],
      "execution_count": null,
      "outputs": [
        {
          "output_type": "execute_result",
          "data": {
            "text/html": [
              "<div>\n",
              "<style scoped>\n",
              "    .dataframe tbody tr th:only-of-type {\n",
              "        vertical-align: middle;\n",
              "    }\n",
              "\n",
              "    .dataframe tbody tr th {\n",
              "        vertical-align: top;\n",
              "    }\n",
              "\n",
              "    .dataframe thead th {\n",
              "        text-align: right;\n",
              "    }\n",
              "</style>\n",
              "<table border=\"1\" class=\"dataframe\">\n",
              "  <thead>\n",
              "    <tr style=\"text-align: right;\">\n",
              "      <th></th>\n",
              "      <th>Num_Cells_Strain1</th>\n",
              "      <th>Num_Cells_Strain2</th>\n",
              "      <th>t_deg</th>\n",
              "      <th>k_degA</th>\n",
              "      <th>k_degB</th>\n",
              "      <th>ratioS1</th>\n",
              "      <th>ratioS2</th>\n",
              "    </tr>\n",
              "  </thead>\n",
              "  <tbody>\n",
              "    <tr>\n",
              "      <th>0</th>\n",
              "      <td>0.777778</td>\n",
              "      <td>0.333333</td>\n",
              "      <td>0.000000</td>\n",
              "      <td>0.0</td>\n",
              "      <td>0.000000</td>\n",
              "      <td>0.358123</td>\n",
              "      <td>0.194824</td>\n",
              "    </tr>\n",
              "    <tr>\n",
              "      <th>1</th>\n",
              "      <td>0.777778</td>\n",
              "      <td>0.333333</td>\n",
              "      <td>0.352941</td>\n",
              "      <td>0.0</td>\n",
              "      <td>1.000000</td>\n",
              "      <td>0.358123</td>\n",
              "      <td>0.194824</td>\n",
              "    </tr>\n",
              "    <tr>\n",
              "      <th>2</th>\n",
              "      <td>0.777778</td>\n",
              "      <td>0.333333</td>\n",
              "      <td>1.000000</td>\n",
              "      <td>0.8</td>\n",
              "      <td>0.000000</td>\n",
              "      <td>0.392511</td>\n",
              "      <td>0.308724</td>\n",
              "    </tr>\n",
              "    <tr>\n",
              "      <th>3</th>\n",
              "      <td>0.777778</td>\n",
              "      <td>0.333333</td>\n",
              "      <td>0.000000</td>\n",
              "      <td>0.8</td>\n",
              "      <td>0.666667</td>\n",
              "      <td>0.392511</td>\n",
              "      <td>0.308724</td>\n",
              "    </tr>\n",
              "    <tr>\n",
              "      <th>4</th>\n",
              "      <td>0.777778</td>\n",
              "      <td>0.333333</td>\n",
              "      <td>0.352941</td>\n",
              "      <td>0.8</td>\n",
              "      <td>0.666667</td>\n",
              "      <td>0.392511</td>\n",
              "      <td>0.308724</td>\n",
              "    </tr>\n",
              "    <tr>\n",
              "      <th>...</th>\n",
              "      <td>...</td>\n",
              "      <td>...</td>\n",
              "      <td>...</td>\n",
              "      <td>...</td>\n",
              "      <td>...</td>\n",
              "      <td>...</td>\n",
              "      <td>...</td>\n",
              "    </tr>\n",
              "    <tr>\n",
              "      <th>5162</th>\n",
              "      <td>0.666667</td>\n",
              "      <td>0.888889</td>\n",
              "      <td>0.000000</td>\n",
              "      <td>0.0</td>\n",
              "      <td>0.666667</td>\n",
              "      <td>1.000000</td>\n",
              "      <td>1.000000</td>\n",
              "    </tr>\n",
              "    <tr>\n",
              "      <th>5163</th>\n",
              "      <td>0.666667</td>\n",
              "      <td>0.888889</td>\n",
              "      <td>0.352941</td>\n",
              "      <td>0.0</td>\n",
              "      <td>0.666667</td>\n",
              "      <td>1.000000</td>\n",
              "      <td>1.000000</td>\n",
              "    </tr>\n",
              "    <tr>\n",
              "      <th>5164</th>\n",
              "      <td>0.666667</td>\n",
              "      <td>0.888889</td>\n",
              "      <td>0.705882</td>\n",
              "      <td>0.0</td>\n",
              "      <td>0.666667</td>\n",
              "      <td>1.000000</td>\n",
              "      <td>1.000000</td>\n",
              "    </tr>\n",
              "    <tr>\n",
              "      <th>5165</th>\n",
              "      <td>0.666667</td>\n",
              "      <td>0.888889</td>\n",
              "      <td>1.000000</td>\n",
              "      <td>0.0</td>\n",
              "      <td>0.666667</td>\n",
              "      <td>1.000000</td>\n",
              "      <td>1.000000</td>\n",
              "    </tr>\n",
              "    <tr>\n",
              "      <th>5166</th>\n",
              "      <td>0.666667</td>\n",
              "      <td>0.888889</td>\n",
              "      <td>0.000000</td>\n",
              "      <td>0.0</td>\n",
              "      <td>1.000000</td>\n",
              "      <td>1.000000</td>\n",
              "      <td>1.000000</td>\n",
              "    </tr>\n",
              "  </tbody>\n",
              "</table>\n",
              "<p>5167 rows × 7 columns</p>\n",
              "</div>"
            ],
            "text/plain": [
              "      Num_Cells_Strain1  Num_Cells_Strain2  ...   ratioS1   ratioS2\n",
              "0              0.777778           0.333333  ...  0.358123  0.194824\n",
              "1              0.777778           0.333333  ...  0.358123  0.194824\n",
              "2              0.777778           0.333333  ...  0.392511  0.308724\n",
              "3              0.777778           0.333333  ...  0.392511  0.308724\n",
              "4              0.777778           0.333333  ...  0.392511  0.308724\n",
              "...                 ...                ...  ...       ...       ...\n",
              "5162           0.666667           0.888889  ...  1.000000  1.000000\n",
              "5163           0.666667           0.888889  ...  1.000000  1.000000\n",
              "5164           0.666667           0.888889  ...  1.000000  1.000000\n",
              "5165           0.666667           0.888889  ...  1.000000  1.000000\n",
              "5166           0.666667           0.888889  ...  1.000000  1.000000\n",
              "\n",
              "[5167 rows x 7 columns]"
            ]
          },
          "metadata": {},
          "execution_count": 11
        }
      ]
    },
    {
      "cell_type": "code",
      "metadata": {
        "colab": {
          "base_uri": "https://localhost:8080/",
          "height": 446
        },
        "id": "0zhkzjSZFITS",
        "outputId": "5fc1284a-a7b2-4ec6-ae0a-417038a4793b"
      },
      "source": [
        "standardized_ds.boxplot(figsize=(20,7))"
      ],
      "execution_count": null,
      "outputs": [
        {
          "output_type": "execute_result",
          "data": {
            "text/plain": [
              "<matplotlib.axes._subplots.AxesSubplot at 0x7f36ff7ce050>"
            ]
          },
          "metadata": {},
          "execution_count": 12
        },
        {
          "output_type": "display_data",
          "data": {
            "image/png": "[encoded data removed]",
            "text/plain": [
              "<Figure size 1440x504 with 1 Axes>"
            ]
          },
          "metadata": {
            "needs_background": "light"
          }
        }
      ]
    },
    {
      "cell_type": "markdown",
      "metadata": {
        "id": "ttP7D9vPGkjh"
      },
      "source": [
        "Both boxplot figures show the existence of really few outliers. We proceed to curate the data.\n",
        "**We study each attribute** and apply modifications to outliers to get them into the normal distribution.\n"
      ]
    },
    {
      "cell_type": "markdown",
      "metadata": {
        "id": "hNBp-UjybNe2"
      },
      "source": [
        "**ratioS1**"
      ]
    },
    {
      "cell_type": "code",
      "metadata": {
        "colab": {
          "base_uri": "https://localhost:8080/",
          "height": 386
        },
        "id": "3KAYUJ01uk5Z",
        "outputId": "aed3145d-d08d-4352-a72a-7e23a6b63b99"
      },
      "source": [
        "sns.displot(dataset[\"ratioS1\"], kde=False, rug=True)"
      ],
      "execution_count": null,
      "outputs": [
        {
          "output_type": "execute_result",
          "data": {
            "text/plain": [
              "<seaborn.axisgrid.FacetGrid at 0x7f36ff279ed0>"
            ]
          },
          "metadata": {},
          "execution_count": 13
        },
        {
          "output_type": "display_data",
          "data": {
            "image/png": "[encoded data removed]",
            "text/plain": [
              "<Figure size 360x360 with 1 Axes>"
            ]
          },
          "metadata": {
            "needs_background": "light"
          }
        }
      ]
    },
    {
      "cell_type": "code",
      "metadata": {
        "colab": {
          "base_uri": "https://localhost:8080/",
          "height": 282
        },
        "id": "DUPxJBpHu2Jy",
        "outputId": "273b1c65-a34b-4fae-c376-080f70cd85b4"
      },
      "source": [
        "dataset.boxplot(column=['ratioS1'])"
      ],
      "execution_count": null,
      "outputs": [
        {
          "output_type": "execute_result",
          "data": {
            "text/plain": [
              "<matplotlib.axes._subplots.AxesSubplot at 0x7f36f6f59b50>"
            ]
          },
          "metadata": {},
          "execution_count": 14
        },
        {
          "output_type": "display_data",
          "data": {
            "image/png": "[encoded data removed]",
            "text/plain": [
              "<Figure size 432x288 with 1 Axes>"
            ]
          },
          "metadata": {
            "needs_background": "light"
          }
        }
      ]
    },
    {
      "cell_type": "code",
      "metadata": {
        "colab": {
          "base_uri": "https://localhost:8080/"
        },
        "id": "LE3h8fPTaR8I",
        "outputId": "03feb2f0-b3e4-43f8-d0a6-b8455717f108"
      },
      "source": [
        "print(\"minimum: \",np.amin(dataset['ratioS1'].values), \"Maximum: \", np.amax(dataset['ratioS1'].values))"
      ],
      "execution_count": null,
      "outputs": [
        {
          "output_type": "stream",
          "name": "stdout",
          "text": [
            "minimum:  0.0 Maximum:  3.0\n"
          ]
        }
      ]
    },
    {
      "cell_type": "code",
      "metadata": {
        "colab": {
          "base_uri": "https://localhost:8080/",
          "height": 282
        },
        "id": "pEhc5aC-ahLq",
        "outputId": "b86d992a-b0e3-4f59-d503-069db33010ec"
      },
      "source": [
        "dataset.loc[dataset['ratioS1'] > 1.5,'ratioS1']= 2\n",
        "dataset.boxplot(column=['ratioS1'])"
      ],
      "execution_count": null,
      "outputs": [
        {
          "output_type": "execute_result",
          "data": {
            "text/plain": [
              "<matplotlib.axes._subplots.AxesSubplot at 0x7f36f5bc6ed0>"
            ]
          },
          "metadata": {},
          "execution_count": 16
        },
        {
          "output_type": "display_data",
          "data": {
            "image/png": "[encoded data removed]",
            "text/plain": [
              "<Figure size 432x288 with 1 Axes>"
            ]
          },
          "metadata": {
            "needs_background": "light"
          }
        }
      ]
    },
    {
      "cell_type": "markdown",
      "metadata": {
        "id": "LZkyq-33bVTV"
      },
      "source": [
        "**ratioS2**"
      ]
    },
    {
      "cell_type": "code",
      "metadata": {
        "colab": {
          "base_uri": "https://localhost:8080/",
          "height": 386
        },
        "id": "oS8v4YXNbXWC",
        "outputId": "d95a7f7a-8c6d-426c-abc6-b661ee5cdc19"
      },
      "source": [
        "sns.displot(dataset[\"ratioS2\"], kde=False, rug=True)"
      ],
      "execution_count": null,
      "outputs": [
        {
          "output_type": "execute_result",
          "data": {
            "text/plain": [
              "<seaborn.axisgrid.FacetGrid at 0x7f36f5a93410>"
            ]
          },
          "metadata": {},
          "execution_count": 17
        },
        {
          "output_type": "display_data",
          "data": {
            "image/png": "[encoded data removed]",
            "text/plain": [
              "<Figure size 360x360 with 1 Axes>"
            ]
          },
          "metadata": {
            "needs_background": "light"
          }
        }
      ]
    },
    {
      "cell_type": "code",
      "metadata": {
        "colab": {
          "base_uri": "https://localhost:8080/",
          "height": 282
        },
        "id": "gwywXxxubfW4",
        "outputId": "0f506194-23ef-401d-be63-0c7ea3b0fffa"
      },
      "source": [
        "dataset.boxplot(column=['ratioS2'])"
      ],
      "execution_count": null,
      "outputs": [
        {
          "output_type": "execute_result",
          "data": {
            "text/plain": [
              "<matplotlib.axes._subplots.AxesSubplot at 0x7f36f56c2790>"
            ]
          },
          "metadata": {},
          "execution_count": 18
        },
        {
          "output_type": "display_data",
          "data": {
            "image/png": "[encoded data removed]",
            "text/plain": [
              "<Figure size 432x288 with 1 Axes>"
            ]
          },
          "metadata": {
            "needs_background": "light"
          }
        }
      ]
    },
    {
      "cell_type": "code",
      "metadata": {
        "colab": {
          "base_uri": "https://localhost:8080/"
        },
        "id": "LoBgAK3abj4G",
        "outputId": "d1687b9b-49e7-410b-f9db-5f5b018ee89e"
      },
      "source": [
        "print(\"minimum: \",np.amin(dataset['ratioS2'].values), \"Maximum: \", np.amax(dataset['ratioS2'].values))"
      ],
      "execution_count": null,
      "outputs": [
        {
          "output_type": "stream",
          "name": "stdout",
          "text": [
            "minimum:  0.0 Maximum:  3.0\n"
          ]
        }
      ]
    },
    {
      "cell_type": "code",
      "metadata": {
        "colab": {
          "base_uri": "https://localhost:8080/",
          "height": 282
        },
        "id": "VYXpbZegbpzR",
        "outputId": "6803f728-c84d-40e7-a1f2-f474aab7fee0"
      },
      "source": [
        "dataset.loc[dataset['ratioS2'] > 1.8,'ratioS2']= 2\n",
        "dataset.boxplot(column=['ratioS2'])"
      ],
      "execution_count": null,
      "outputs": [
        {
          "output_type": "execute_result",
          "data": {
            "text/plain": [
              "<matplotlib.axes._subplots.AxesSubplot at 0x7f36f5643490>"
            ]
          },
          "metadata": {},
          "execution_count": 20
        },
        {
          "output_type": "display_data",
          "data": {
            "image/png": "[encoded data removed]",
            "text/plain": [
              "<Figure size 432x288 with 1 Axes>"
            ]
          },
          "metadata": {
            "needs_background": "light"
          }
        }
      ]
    },
    {
      "cell_type": "markdown",
      "metadata": {
        "id": "QV2-83BpHObu"
      },
      "source": [
        "Let's see the **correlation matrix** and **descriptive statistics** on the dataset. The **correlation matrix** permits to visualize dependencies between pairs of attributes: values close to -1 or +1 indicate a high correlation. A negative correlation value means than when the value of an attribute gets high, the value of the other attribute decreases, and vice-versa. Positive correlation values point out that both features increase or decrease simultaneously. "
      ]
    },
    {
      "cell_type": "code",
      "metadata": {
        "colab": {
          "base_uri": "https://localhost:8080/",
          "height": 300
        },
        "id": "8WzYW3iaFgpG",
        "outputId": "60756d22-057d-4f60-dc91-ff2793005dcb"
      },
      "source": [
        "dataset.corr()"
      ],
      "execution_count": null,
      "outputs": [
        {
          "output_type": "execute_result",
          "data": {
            "text/html": [
              "<div>\n",
              "<style scoped>\n",
              "    .dataframe tbody tr th:only-of-type {\n",
              "        vertical-align: middle;\n",
              "    }\n",
              "\n",
              "    .dataframe tbody tr th {\n",
              "        vertical-align: top;\n",
              "    }\n",
              "\n",
              "    .dataframe thead th {\n",
              "        text-align: right;\n",
              "    }\n",
              "</style>\n",
              "<table border=\"1\" class=\"dataframe\">\n",
              "  <thead>\n",
              "    <tr style=\"text-align: right;\">\n",
              "      <th></th>\n",
              "      <th>Num_Cells_Strain1</th>\n",
              "      <th>Num_Cells_Strain2</th>\n",
              "      <th>t_deg</th>\n",
              "      <th>k_degA</th>\n",
              "      <th>k_degB</th>\n",
              "      <th>ratioS1</th>\n",
              "      <th>ratioS2</th>\n",
              "      <th>Stability</th>\n",
              "    </tr>\n",
              "  </thead>\n",
              "  <tbody>\n",
              "    <tr>\n",
              "      <th>Num_Cells_Strain1</th>\n",
              "      <td>1.000000</td>\n",
              "      <td>-0.123269</td>\n",
              "      <td>0.000116</td>\n",
              "      <td>0.000196</td>\n",
              "      <td>0.000947</td>\n",
              "      <td>0.404614</td>\n",
              "      <td>-0.091390</td>\n",
              "      <td>0.067545</td>\n",
              "    </tr>\n",
              "    <tr>\n",
              "      <th>Num_Cells_Strain2</th>\n",
              "      <td>-0.123269</td>\n",
              "      <td>1.000000</td>\n",
              "      <td>-0.000567</td>\n",
              "      <td>-0.000261</td>\n",
              "      <td>0.000747</td>\n",
              "      <td>-0.074076</td>\n",
              "      <td>0.432325</td>\n",
              "      <td>0.053286</td>\n",
              "    </tr>\n",
              "    <tr>\n",
              "      <th>t_deg</th>\n",
              "      <td>0.000116</td>\n",
              "      <td>-0.000567</td>\n",
              "      <td>1.000000</td>\n",
              "      <td>0.000701</td>\n",
              "      <td>0.000261</td>\n",
              "      <td>-0.000870</td>\n",
              "      <td>-0.000870</td>\n",
              "      <td>0.017460</td>\n",
              "    </tr>\n",
              "    <tr>\n",
              "      <th>k_degA</th>\n",
              "      <td>0.000196</td>\n",
              "      <td>-0.000261</td>\n",
              "      <td>0.000701</td>\n",
              "      <td>1.000000</td>\n",
              "      <td>0.001358</td>\n",
              "      <td>-0.005951</td>\n",
              "      <td>0.009922</td>\n",
              "      <td>0.215318</td>\n",
              "    </tr>\n",
              "    <tr>\n",
              "      <th>k_degB</th>\n",
              "      <td>0.000947</td>\n",
              "      <td>0.000747</td>\n",
              "      <td>0.000261</td>\n",
              "      <td>0.001358</td>\n",
              "      <td>1.000000</td>\n",
              "      <td>-0.002988</td>\n",
              "      <td>-0.000838</td>\n",
              "      <td>0.516347</td>\n",
              "    </tr>\n",
              "    <tr>\n",
              "      <th>ratioS1</th>\n",
              "      <td>0.404614</td>\n",
              "      <td>-0.074076</td>\n",
              "      <td>-0.000870</td>\n",
              "      <td>-0.005951</td>\n",
              "      <td>-0.002988</td>\n",
              "      <td>1.000000</td>\n",
              "      <td>-0.107113</td>\n",
              "      <td>0.064377</td>\n",
              "    </tr>\n",
              "    <tr>\n",
              "      <th>ratioS2</th>\n",
              "      <td>-0.091390</td>\n",
              "      <td>0.432325</td>\n",
              "      <td>-0.000870</td>\n",
              "      <td>0.009922</td>\n",
              "      <td>-0.000838</td>\n",
              "      <td>-0.107113</td>\n",
              "      <td>1.000000</td>\n",
              "      <td>0.073389</td>\n",
              "    </tr>\n",
              "    <tr>\n",
              "      <th>Stability</th>\n",
              "      <td>0.067545</td>\n",
              "      <td>0.053286</td>\n",
              "      <td>0.017460</td>\n",
              "      <td>0.215318</td>\n",
              "      <td>0.516347</td>\n",
              "      <td>0.064377</td>\n",
              "      <td>0.073389</td>\n",
              "      <td>1.000000</td>\n",
              "    </tr>\n",
              "  </tbody>\n",
              "</table>\n",
              "</div>"
            ],
            "text/plain": [
              "                   Num_Cells_Strain1  Num_Cells_Strain2  ...   ratioS2  Stability\n",
              "Num_Cells_Strain1           1.000000          -0.123269  ... -0.091390   0.067545\n",
              "Num_Cells_Strain2          -0.123269           1.000000  ...  0.432325   0.053286\n",
              "t_deg                       0.000116          -0.000567  ... -0.000870   0.017460\n",
              "k_degA                      0.000196          -0.000261  ...  0.009922   0.215318\n",
              "k_degB                      0.000947           0.000747  ... -0.000838   0.516347\n",
              "ratioS1                     0.404614          -0.074076  ... -0.107113   0.064377\n",
              "ratioS2                    -0.091390           0.432325  ...  1.000000   0.073389\n",
              "Stability                   0.067545           0.053286  ...  0.073389   1.000000\n",
              "\n",
              "[8 rows x 8 columns]"
            ]
          },
          "metadata": {},
          "execution_count": 21
        }
      ]
    },
    {
      "cell_type": "code",
      "metadata": {
        "colab": {
          "base_uri": "https://localhost:8080/",
          "height": 300
        },
        "id": "lKSvNuylGgfv",
        "outputId": "b030f897-403c-4138-8b75-67f250155f33"
      },
      "source": [
        "dataset.describe()"
      ],
      "execution_count": null,
      "outputs": [
        {
          "output_type": "execute_result",
          "data": {
            "text/html": [
              "<div>\n",
              "<style scoped>\n",
              "    .dataframe tbody tr th:only-of-type {\n",
              "        vertical-align: middle;\n",
              "    }\n",
              "\n",
              "    .dataframe tbody tr th {\n",
              "        vertical-align: top;\n",
              "    }\n",
              "\n",
              "    .dataframe thead th {\n",
              "        text-align: right;\n",
              "    }\n",
              "</style>\n",
              "<table border=\"1\" class=\"dataframe\">\n",
              "  <thead>\n",
              "    <tr style=\"text-align: right;\">\n",
              "      <th></th>\n",
              "      <th>Num_Cells_Strain1</th>\n",
              "      <th>Num_Cells_Strain2</th>\n",
              "      <th>t_deg</th>\n",
              "      <th>k_degA</th>\n",
              "      <th>k_degB</th>\n",
              "      <th>ratioS1</th>\n",
              "      <th>ratioS2</th>\n",
              "      <th>Stability</th>\n",
              "    </tr>\n",
              "  </thead>\n",
              "  <tbody>\n",
              "    <tr>\n",
              "      <th>count</th>\n",
              "      <td>5167.000000</td>\n",
              "      <td>5167.000000</td>\n",
              "      <td>5167.000000</td>\n",
              "      <td>5167.000000</td>\n",
              "      <td>5167.000000</td>\n",
              "      <td>5167.000000</td>\n",
              "      <td>5167.000000</td>\n",
              "      <td>5167.000000</td>\n",
              "    </tr>\n",
              "    <tr>\n",
              "      <th>mean</th>\n",
              "      <td>5.264370</td>\n",
              "      <td>5.147668</td>\n",
              "      <td>29.492162</td>\n",
              "      <td>0.322721</td>\n",
              "      <td>0.466518</td>\n",
              "      <td>0.926077</td>\n",
              "      <td>0.884422</td>\n",
              "      <td>0.846913</td>\n",
              "    </tr>\n",
              "    <tr>\n",
              "      <th>std</th>\n",
              "      <td>2.844358</td>\n",
              "      <td>2.797818</td>\n",
              "      <td>12.759755</td>\n",
              "      <td>0.195127</td>\n",
              "      <td>0.124759</td>\n",
              "      <td>0.453824</td>\n",
              "      <td>0.397401</td>\n",
              "      <td>0.266314</td>\n",
              "    </tr>\n",
              "    <tr>\n",
              "      <th>min</th>\n",
              "      <td>1.000000</td>\n",
              "      <td>1.000000</td>\n",
              "      <td>12.000000</td>\n",
              "      <td>0.100000</td>\n",
              "      <td>0.300000</td>\n",
              "      <td>0.000000</td>\n",
              "      <td>0.000000</td>\n",
              "      <td>0.000000</td>\n",
              "    </tr>\n",
              "    <tr>\n",
              "      <th>25%</th>\n",
              "      <td>3.000000</td>\n",
              "      <td>3.000000</td>\n",
              "      <td>12.000000</td>\n",
              "      <td>0.100000</td>\n",
              "      <td>0.300000</td>\n",
              "      <td>0.799349</td>\n",
              "      <td>0.829826</td>\n",
              "      <td>0.800000</td>\n",
              "    </tr>\n",
              "    <tr>\n",
              "      <th>50%</th>\n",
              "      <td>5.000000</td>\n",
              "      <td>5.000000</td>\n",
              "      <td>24.000000</td>\n",
              "      <td>0.300000</td>\n",
              "      <td>0.500000</td>\n",
              "      <td>1.022542</td>\n",
              "      <td>0.956797</td>\n",
              "      <td>1.000000</td>\n",
              "    </tr>\n",
              "    <tr>\n",
              "      <th>75%</th>\n",
              "      <td>8.000000</td>\n",
              "      <td>7.000000</td>\n",
              "      <td>36.000000</td>\n",
              "      <td>0.500000</td>\n",
              "      <td>0.600000</td>\n",
              "      <td>1.159105</td>\n",
              "      <td>1.101896</td>\n",
              "      <td>1.000000</td>\n",
              "    </tr>\n",
              "    <tr>\n",
              "      <th>max</th>\n",
              "      <td>10.000000</td>\n",
              "      <td>10.000000</td>\n",
              "      <td>46.000000</td>\n",
              "      <td>0.600000</td>\n",
              "      <td>0.600000</td>\n",
              "      <td>2.000000</td>\n",
              "      <td>2.000000</td>\n",
              "      <td>1.000000</td>\n",
              "    </tr>\n",
              "  </tbody>\n",
              "</table>\n",
              "</div>"
            ],
            "text/plain": [
              "       Num_Cells_Strain1  Num_Cells_Strain2  ...      ratioS2    Stability\n",
              "count        5167.000000        5167.000000  ...  5167.000000  5167.000000\n",
              "mean            5.264370           5.147668  ...     0.884422     0.846913\n",
              "std             2.844358           2.797818  ...     0.397401     0.266314\n",
              "min             1.000000           1.000000  ...     0.000000     0.000000\n",
              "25%             3.000000           3.000000  ...     0.829826     0.800000\n",
              "50%             5.000000           5.000000  ...     0.956797     1.000000\n",
              "75%             8.000000           7.000000  ...     1.101896     1.000000\n",
              "max            10.000000          10.000000  ...     2.000000     1.000000\n",
              "\n",
              "[8 rows x 8 columns]"
            ]
          },
          "metadata": {},
          "execution_count": 22
        }
      ]
    },
    {
      "cell_type": "markdown",
      "metadata": {
        "id": "5uOjtxrTHrMS"
      },
      "source": [
        "Check how many instances per label there are and group them if necessary."
      ]
    },
    {
      "cell_type": "code",
      "metadata": {
        "colab": {
          "base_uri": "https://localhost:8080/"
        },
        "id": "gr80nysVHmfP",
        "outputId": "42b3e47f-d3aa-4130-f26a-75c2b6f9acda"
      },
      "source": [
        "dataset['Stability'].value_counts()"
      ],
      "execution_count": null,
      "outputs": [
        {
          "output_type": "execute_result",
          "data": {
            "text/plain": [
              "1.0    3388\n",
              "0.9     330\n",
              "0.8     229\n",
              "0.7     214\n",
              "0.6     202\n",
              "0.5     192\n",
              "0.4     166\n",
              "0.3     147\n",
              "0.2     111\n",
              "0.0     107\n",
              "0.1      81\n",
              "Name: Stability, dtype: int64"
            ]
          },
          "metadata": {},
          "execution_count": 23
        }
      ]
    },
    {
      "cell_type": "code",
      "metadata": {
        "colab": {
          "base_uri": "https://localhost:8080/"
        },
        "id": "S4mttm6QIeMF",
        "outputId": "fb205ef8-51ea-461c-b9fd-018ed6d79241"
      },
      "source": [
        "dataset.shape"
      ],
      "execution_count": null,
      "outputs": [
        {
          "output_type": "execute_result",
          "data": {
            "text/plain": [
              "(5167, 8)"
            ]
          },
          "metadata": {},
          "execution_count": 24
        }
      ]
    },
    {
      "cell_type": "markdown",
      "metadata": {
        "id": "wgilvtq6IkXW"
      },
      "source": [
        "Suffle the dataset (three times):"
      ]
    },
    {
      "cell_type": "code",
      "metadata": {
        "colab": {
          "base_uri": "https://localhost:8080/",
          "height": 206
        },
        "id": "1pRXWBSaIj0y",
        "outputId": "3b32dcd0-9892-4f2f-832b-718f24c636bd"
      },
      "source": [
        "dataset=dataset.sample(frac=1) #frac is the fraction of axis items to return. 1 means all of them\n",
        "dataset=dataset.sample(frac=1)\n",
        "dataset=dataset.sample(frac=1).reset_index(drop=True) #Reset index and drop the old one\n",
        "dataset.head()"
      ],
      "execution_count": null,
      "outputs": [
        {
          "output_type": "execute_result",
          "data": {
            "text/html": [
              "<div>\n",
              "<style scoped>\n",
              "    .dataframe tbody tr th:only-of-type {\n",
              "        vertical-align: middle;\n",
              "    }\n",
              "\n",
              "    .dataframe tbody tr th {\n",
              "        vertical-align: top;\n",
              "    }\n",
              "\n",
              "    .dataframe thead th {\n",
              "        text-align: right;\n",
              "    }\n",
              "</style>\n",
              "<table border=\"1\" class=\"dataframe\">\n",
              "  <thead>\n",
              "    <tr style=\"text-align: right;\">\n",
              "      <th></th>\n",
              "      <th>Num_Cells_Strain1</th>\n",
              "      <th>Num_Cells_Strain2</th>\n",
              "      <th>t_deg</th>\n",
              "      <th>k_degA</th>\n",
              "      <th>k_degB</th>\n",
              "      <th>ratioS1</th>\n",
              "      <th>ratioS2</th>\n",
              "      <th>Stability</th>\n",
              "    </tr>\n",
              "  </thead>\n",
              "  <tbody>\n",
              "    <tr>\n",
              "      <th>0</th>\n",
              "      <td>1</td>\n",
              "      <td>10</td>\n",
              "      <td>12</td>\n",
              "      <td>0.1</td>\n",
              "      <td>0.3</td>\n",
              "      <td>0.000000</td>\n",
              "      <td>1.204721</td>\n",
              "      <td>0.2</td>\n",
              "    </tr>\n",
              "    <tr>\n",
              "      <th>1</th>\n",
              "      <td>7</td>\n",
              "      <td>7</td>\n",
              "      <td>36</td>\n",
              "      <td>0.3</td>\n",
              "      <td>0.5</td>\n",
              "      <td>1.157516</td>\n",
              "      <td>0.881653</td>\n",
              "      <td>1.0</td>\n",
              "    </tr>\n",
              "    <tr>\n",
              "      <th>2</th>\n",
              "      <td>1</td>\n",
              "      <td>2</td>\n",
              "      <td>12</td>\n",
              "      <td>0.3</td>\n",
              "      <td>0.5</td>\n",
              "      <td>0.000000</td>\n",
              "      <td>1.326462</td>\n",
              "      <td>1.0</td>\n",
              "    </tr>\n",
              "    <tr>\n",
              "      <th>3</th>\n",
              "      <td>2</td>\n",
              "      <td>2</td>\n",
              "      <td>46</td>\n",
              "      <td>0.3</td>\n",
              "      <td>0.6</td>\n",
              "      <td>2.000000</td>\n",
              "      <td>1.121286</td>\n",
              "      <td>1.0</td>\n",
              "    </tr>\n",
              "    <tr>\n",
              "      <th>4</th>\n",
              "      <td>1</td>\n",
              "      <td>3</td>\n",
              "      <td>24</td>\n",
              "      <td>0.3</td>\n",
              "      <td>0.6</td>\n",
              "      <td>0.000000</td>\n",
              "      <td>0.652987</td>\n",
              "      <td>1.0</td>\n",
              "    </tr>\n",
              "  </tbody>\n",
              "</table>\n",
              "</div>"
            ],
            "text/plain": [
              "   Num_Cells_Strain1  Num_Cells_Strain2  t_deg  ...   ratioS1   ratioS2  Stability\n",
              "0                  1                 10     12  ...  0.000000  1.204721        0.2\n",
              "1                  7                  7     36  ...  1.157516  0.881653        1.0\n",
              "2                  1                  2     12  ...  0.000000  1.326462        1.0\n",
              "3                  2                  2     46  ...  2.000000  1.121286        1.0\n",
              "4                  1                  3     24  ...  0.000000  0.652987        1.0\n",
              "\n",
              "[5 rows x 8 columns]"
            ]
          },
          "metadata": {},
          "execution_count": 25
        }
      ]
    },
    {
      "cell_type": "markdown",
      "metadata": {
        "id": "9NOXQ2PnI5ch"
      },
      "source": [
        "Split the dataset vertically into attributes $x$ and label $t$ (target) for supervised learning. There are 7 *attributes*, and one *label* (stabulity) with two different values or *classes*."
      ]
    },
    {
      "cell_type": "code",
      "metadata": {
        "id": "A-aFw8emJAf_"
      },
      "source": [
        "t = dataset.Stability\n",
        "t[:10]\n",
        "\n",
        "#Guardamos t en el archivo continuous\n",
        "t.to_csv(CONTINUOUS_FILE_NAME, index = False)"
      ],
      "execution_count": null,
      "outputs": []
    },
    {
      "cell_type": "markdown",
      "metadata": {
        "id": "LbqQveHDJY5P"
      },
      "source": [
        "One-hot encode the classes for a classification problem."
      ]
    },
    {
      "cell_type": "code",
      "metadata": {
        "colab": {
          "base_uri": "https://localhost:8080/"
        },
        "id": "TC_3YLhDseIU",
        "outputId": "b9ac2b52-2877-469b-e202-5402707a309f"
      },
      "source": [
        "# 2 CLASSES #\n",
        "dataset.loc[dataset['Stability'] < 1.0 ,'Stability'] =0\n",
        "dataset['Stability'].value_counts()"
      ],
      "execution_count": null,
      "outputs": [
        {
          "output_type": "execute_result",
          "data": {
            "text/plain": [
              "1.0    3388\n",
              "0.0    1779\n",
              "Name: Stability, dtype: int64"
            ]
          },
          "metadata": {},
          "execution_count": 27
        }
      ]
    },
    {
      "cell_type": "code",
      "metadata": {
        "colab": {
          "base_uri": "https://localhost:8080/",
          "height": 206
        },
        "id": "Pm5Rca1YtHei",
        "outputId": "2f27349d-cef0-41f4-feea-a93c766609fa"
      },
      "source": [
        "t = dataset.Stability\n",
        "x = dataset.drop (columns='Stability')\n",
        "\n",
        "x.head()"
      ],
      "execution_count": null,
      "outputs": [
        {
          "output_type": "execute_result",
          "data": {
            "text/html": [
              "<div>\n",
              "<style scoped>\n",
              "    .dataframe tbody tr th:only-of-type {\n",
              "        vertical-align: middle;\n",
              "    }\n",
              "\n",
              "    .dataframe tbody tr th {\n",
              "        vertical-align: top;\n",
              "    }\n",
              "\n",
              "    .dataframe thead th {\n",
              "        text-align: right;\n",
              "    }\n",
              "</style>\n",
              "<table border=\"1\" class=\"dataframe\">\n",
              "  <thead>\n",
              "    <tr style=\"text-align: right;\">\n",
              "      <th></th>\n",
              "      <th>Num_Cells_Strain1</th>\n",
              "      <th>Num_Cells_Strain2</th>\n",
              "      <th>t_deg</th>\n",
              "      <th>k_degA</th>\n",
              "      <th>k_degB</th>\n",
              "      <th>ratioS1</th>\n",
              "      <th>ratioS2</th>\n",
              "    </tr>\n",
              "  </thead>\n",
              "  <tbody>\n",
              "    <tr>\n",
              "      <th>0</th>\n",
              "      <td>1</td>\n",
              "      <td>10</td>\n",
              "      <td>12</td>\n",
              "      <td>0.1</td>\n",
              "      <td>0.3</td>\n",
              "      <td>0.000000</td>\n",
              "      <td>1.204721</td>\n",
              "    </tr>\n",
              "    <tr>\n",
              "      <th>1</th>\n",
              "      <td>7</td>\n",
              "      <td>7</td>\n",
              "      <td>36</td>\n",
              "      <td>0.3</td>\n",
              "      <td>0.5</td>\n",
              "      <td>1.157516</td>\n",
              "      <td>0.881653</td>\n",
              "    </tr>\n",
              "    <tr>\n",
              "      <th>2</th>\n",
              "      <td>1</td>\n",
              "      <td>2</td>\n",
              "      <td>12</td>\n",
              "      <td>0.3</td>\n",
              "      <td>0.5</td>\n",
              "      <td>0.000000</td>\n",
              "      <td>1.326462</td>\n",
              "    </tr>\n",
              "    <tr>\n",
              "      <th>3</th>\n",
              "      <td>2</td>\n",
              "      <td>2</td>\n",
              "      <td>46</td>\n",
              "      <td>0.3</td>\n",
              "      <td>0.6</td>\n",
              "      <td>2.000000</td>\n",
              "      <td>1.121286</td>\n",
              "    </tr>\n",
              "    <tr>\n",
              "      <th>4</th>\n",
              "      <td>1</td>\n",
              "      <td>3</td>\n",
              "      <td>24</td>\n",
              "      <td>0.3</td>\n",
              "      <td>0.6</td>\n",
              "      <td>0.000000</td>\n",
              "      <td>0.652987</td>\n",
              "    </tr>\n",
              "  </tbody>\n",
              "</table>\n",
              "</div>"
            ],
            "text/plain": [
              "   Num_Cells_Strain1  Num_Cells_Strain2  t_deg  ...  k_degB   ratioS1   ratioS2\n",
              "0                  1                 10     12  ...     0.3  0.000000  1.204721\n",
              "1                  7                  7     36  ...     0.5  1.157516  0.881653\n",
              "2                  1                  2     12  ...     0.5  0.000000  1.326462\n",
              "3                  2                  2     46  ...     0.6  2.000000  1.121286\n",
              "4                  1                  3     24  ...     0.6  0.000000  0.652987\n",
              "\n",
              "[5 rows x 7 columns]"
            ]
          },
          "metadata": {},
          "execution_count": 28
        }
      ]
    },
    {
      "cell_type": "code",
      "metadata": {
        "id": "OM20bXaLJ4kg"
      },
      "source": [
        "#Guardamos el binary file 0 y 1\n",
        "t.to_csv(CONTINUOUS_2LABEL_FILE_NAME, index = False)"
      ],
      "execution_count": null,
      "outputs": []
    },
    {
      "cell_type": "code",
      "metadata": {
        "colab": {
          "base_uri": "https://localhost:8080/"
        },
        "id": "RC_Dky5VJUdc",
        "outputId": "47de6a81-9cf0-4dc8-d55e-aa0db82297cf"
      },
      "source": [
        "# 2 CLASSES #\n",
        "names = np.array(['Unstable', 'Stable'])\n",
        "names"
      ],
      "execution_count": null,
      "outputs": [
        {
          "output_type": "execute_result",
          "data": {
            "text/plain": [
              "array(['Unstable', 'Stable'], dtype='<U8')"
            ]
          },
          "metadata": {},
          "execution_count": 30
        }
      ]
    },
    {
      "cell_type": "code",
      "metadata": {
        "id": "2EbCb-NDKI0o",
        "colab": {
          "base_uri": "https://localhost:8080/"
        },
        "outputId": "2a13251d-381e-4e29-ee5a-9c5da6ac79ee"
      },
      "source": [
        "# 2 CLASSES\n",
        "\n",
        "#One-hot encoding\n",
        "\n",
        "encoder = OneHotEncoder(categories=\"auto\", sparse=False) # Function that one-hot encodes integers\n",
        "one_hot_t = encoder.fit_transform (t.values.reshape(-1,1))\n",
        "one_hot_t[:10]"
      ],
      "execution_count": null,
      "outputs": [
        {
          "output_type": "execute_result",
          "data": {
            "text/plain": [
              "array([[1., 0.],\n",
              "       [0., 1.],\n",
              "       [0., 1.],\n",
              "       [0., 1.],\n",
              "       [0., 1.],\n",
              "       [0., 1.],\n",
              "       [0., 1.],\n",
              "       [1., 0.],\n",
              "       [0., 1.],\n",
              "       [0., 1.]])"
            ]
          },
          "metadata": {},
          "execution_count": 31
        }
      ]
    },
    {
      "cell_type": "code",
      "metadata": {
        "id": "sWxKure4KQ5V",
        "colab": {
          "base_uri": "https://localhost:8080/",
          "height": 362
        },
        "outputId": "df03f2e6-7de6-4791-f457-1d5fd0ce3010"
      },
      "source": [
        "one_hot_t = pd.DataFrame(data=one_hot_t,columns=names)\n",
        "one_hot_t[:10]"
      ],
      "execution_count": null,
      "outputs": [
        {
          "output_type": "execute_result",
          "data": {
            "text/html": [
              "<div>\n",
              "<style scoped>\n",
              "    .dataframe tbody tr th:only-of-type {\n",
              "        vertical-align: middle;\n",
              "    }\n",
              "\n",
              "    .dataframe tbody tr th {\n",
              "        vertical-align: top;\n",
              "    }\n",
              "\n",
              "    .dataframe thead th {\n",
              "        text-align: right;\n",
              "    }\n",
              "</style>\n",
              "<table border=\"1\" class=\"dataframe\">\n",
              "  <thead>\n",
              "    <tr style=\"text-align: right;\">\n",
              "      <th></th>\n",
              "      <th>Unstable</th>\n",
              "      <th>Stable</th>\n",
              "    </tr>\n",
              "  </thead>\n",
              "  <tbody>\n",
              "    <tr>\n",
              "      <th>0</th>\n",
              "      <td>1.0</td>\n",
              "      <td>0.0</td>\n",
              "    </tr>\n",
              "    <tr>\n",
              "      <th>1</th>\n",
              "      <td>0.0</td>\n",
              "      <td>1.0</td>\n",
              "    </tr>\n",
              "    <tr>\n",
              "      <th>2</th>\n",
              "      <td>0.0</td>\n",
              "      <td>1.0</td>\n",
              "    </tr>\n",
              "    <tr>\n",
              "      <th>3</th>\n",
              "      <td>0.0</td>\n",
              "      <td>1.0</td>\n",
              "    </tr>\n",
              "    <tr>\n",
              "      <th>4</th>\n",
              "      <td>0.0</td>\n",
              "      <td>1.0</td>\n",
              "    </tr>\n",
              "    <tr>\n",
              "      <th>5</th>\n",
              "      <td>0.0</td>\n",
              "      <td>1.0</td>\n",
              "    </tr>\n",
              "    <tr>\n",
              "      <th>6</th>\n",
              "      <td>0.0</td>\n",
              "      <td>1.0</td>\n",
              "    </tr>\n",
              "    <tr>\n",
              "      <th>7</th>\n",
              "      <td>1.0</td>\n",
              "      <td>0.0</td>\n",
              "    </tr>\n",
              "    <tr>\n",
              "      <th>8</th>\n",
              "      <td>0.0</td>\n",
              "      <td>1.0</td>\n",
              "    </tr>\n",
              "    <tr>\n",
              "      <th>9</th>\n",
              "      <td>0.0</td>\n",
              "      <td>1.0</td>\n",
              "    </tr>\n",
              "  </tbody>\n",
              "</table>\n",
              "</div>"
            ],
            "text/plain": [
              "   Unstable  Stable\n",
              "0       1.0     0.0\n",
              "1       0.0     1.0\n",
              "2       0.0     1.0\n",
              "3       0.0     1.0\n",
              "4       0.0     1.0\n",
              "5       0.0     1.0\n",
              "6       0.0     1.0\n",
              "7       1.0     0.0\n",
              "8       0.0     1.0\n",
              "9       0.0     1.0"
            ]
          },
          "metadata": {},
          "execution_count": 32
        }
      ]
    },
    {
      "cell_type": "code",
      "metadata": {
        "colab": {
          "base_uri": "https://localhost:8080/"
        },
        "id": "ycakXvnlrxnS",
        "outputId": "b017b02f-e05a-486d-b052-49459725f83c"
      },
      "source": [
        "print(\"ratioS1: Minimum: \",np.amin(dataset['ratioS1'].values), \"Maximum: \", np.amax(dataset['ratioS1'].values))\n",
        "print(\"ratioS2: Minimum: \",np.amin(dataset['ratioS2'].values), \"Maximum: \", np.amax(dataset['ratioS2'].values))\n",
        "print(\"Num_Cells_Strain1: Minimum: \",np.amin(dataset['Num_Cells_Strain1'].values), \"Maximum: \", np.amax(dataset['Num_Cells_Strain1'].values))\n",
        "print(\"Num_Cells_Strain2: Minimum: \",np.amin(dataset['Num_Cells_Strain2'].values), \"Maximum: \", np.amax(dataset['Num_Cells_Strain2'].values))\n",
        "print(\"t_deg: Minimum: \",np.amin(dataset['t_deg'].values), \"Maximum: \", np.amax(dataset['t_deg'].values))\n",
        "print(\"k_degA: Minimum: \",np.amin(dataset['k_degA'].values), \"Maximum: \", np.amax(dataset['k_degA'].values))\n",
        "print(\"k_degB: Minimum: \",np.amin(dataset['k_degB'].values), \"Maximum: \", np.amax(dataset['k_degB'].values))"
      ],
      "execution_count": null,
      "outputs": [
        {
          "output_type": "stream",
          "name": "stdout",
          "text": [
            "ratioS1: Minimum:  0.0 Maximum:  2.0\n",
            "ratioS2: Minimum:  0.0 Maximum:  2.0\n",
            "Num_Cells_Strain1: Minimum:  1 Maximum:  10\n",
            "Num_Cells_Strain2: Minimum:  1 Maximum:  10\n",
            "t_deg: Minimum:  12 Maximum:  46\n",
            "k_degA: Minimum:  0.1 Maximum:  0.6\n",
            "k_degB: Minimum:  0.3 Maximum:  0.6\n"
          ]
        }
      ]
    },
    {
      "cell_type": "markdown",
      "metadata": {
        "id": "O8TsFu2nKf7r"
      },
      "source": [
        "Min-max scale of the input dataset (attributes) within the range [-1,1] for each feature independently."
      ]
    },
    {
      "cell_type": "code",
      "metadata": {
        "colab": {
          "base_uri": "https://localhost:8080/",
          "height": 362
        },
        "id": "0iRiwvW5KiKh",
        "outputId": "c85f03c8-e14a-416d-fc61-8804bb02be40"
      },
      "source": [
        "x_s = pd.DataFrame (minmax_scale (x, feature_range=(-1, 1),axis=0, copy=True),columns=x.columns) \n",
        "x_s[:10]"
      ],
      "execution_count": null,
      "outputs": [
        {
          "output_type": "execute_result",
          "data": {
            "text/html": [
              "<div>\n",
              "<style scoped>\n",
              "    .dataframe tbody tr th:only-of-type {\n",
              "        vertical-align: middle;\n",
              "    }\n",
              "\n",
              "    .dataframe tbody tr th {\n",
              "        vertical-align: top;\n",
              "    }\n",
              "\n",
              "    .dataframe thead th {\n",
              "        text-align: right;\n",
              "    }\n",
              "</style>\n",
              "<table border=\"1\" class=\"dataframe\">\n",
              "  <thead>\n",
              "    <tr style=\"text-align: right;\">\n",
              "      <th></th>\n",
              "      <th>Num_Cells_Strain1</th>\n",
              "      <th>Num_Cells_Strain2</th>\n",
              "      <th>t_deg</th>\n",
              "      <th>k_degA</th>\n",
              "      <th>k_degB</th>\n",
              "      <th>ratioS1</th>\n",
              "      <th>ratioS2</th>\n",
              "    </tr>\n",
              "  </thead>\n",
              "  <tbody>\n",
              "    <tr>\n",
              "      <th>0</th>\n",
              "      <td>-0.777778</td>\n",
              "      <td>-0.333333</td>\n",
              "      <td>-1.000000</td>\n",
              "      <td>-1.0</td>\n",
              "      <td>0.333333</td>\n",
              "      <td>1.000000</td>\n",
              "      <td>-0.090580</td>\n",
              "    </tr>\n",
              "    <tr>\n",
              "      <th>1</th>\n",
              "      <td>0.555556</td>\n",
              "      <td>-0.111111</td>\n",
              "      <td>1.000000</td>\n",
              "      <td>0.6</td>\n",
              "      <td>1.000000</td>\n",
              "      <td>-0.200651</td>\n",
              "      <td>-0.202708</td>\n",
              "    </tr>\n",
              "    <tr>\n",
              "      <th>2</th>\n",
              "      <td>0.111111</td>\n",
              "      <td>0.777778</td>\n",
              "      <td>-0.294118</td>\n",
              "      <td>-0.2</td>\n",
              "      <td>-1.000000</td>\n",
              "      <td>0.097955</td>\n",
              "      <td>-0.039851</td>\n",
              "    </tr>\n",
              "    <tr>\n",
              "      <th>3</th>\n",
              "      <td>0.333333</td>\n",
              "      <td>-1.000000</td>\n",
              "      <td>-0.294118</td>\n",
              "      <td>1.0</td>\n",
              "      <td>0.333333</td>\n",
              "      <td>0.481777</td>\n",
              "      <td>-1.000000</td>\n",
              "    </tr>\n",
              "    <tr>\n",
              "      <th>4</th>\n",
              "      <td>-1.000000</td>\n",
              "      <td>1.000000</td>\n",
              "      <td>0.411765</td>\n",
              "      <td>-1.0</td>\n",
              "      <td>0.333333</td>\n",
              "      <td>-1.000000</td>\n",
              "      <td>0.204721</td>\n",
              "    </tr>\n",
              "    <tr>\n",
              "      <th>5</th>\n",
              "      <td>-0.111111</td>\n",
              "      <td>-0.111111</td>\n",
              "      <td>-0.294118</td>\n",
              "      <td>-1.0</td>\n",
              "      <td>0.333333</td>\n",
              "      <td>-0.054955</td>\n",
              "      <td>0.020051</td>\n",
              "    </tr>\n",
              "    <tr>\n",
              "      <th>6</th>\n",
              "      <td>-1.000000</td>\n",
              "      <td>-0.555556</td>\n",
              "      <td>1.000000</td>\n",
              "      <td>1.0</td>\n",
              "      <td>1.000000</td>\n",
              "      <td>-1.000000</td>\n",
              "      <td>0.509916</td>\n",
              "    </tr>\n",
              "    <tr>\n",
              "      <th>7</th>\n",
              "      <td>-1.000000</td>\n",
              "      <td>1.000000</td>\n",
              "      <td>1.000000</td>\n",
              "      <td>-0.2</td>\n",
              "      <td>1.000000</td>\n",
              "      <td>-1.000000</td>\n",
              "      <td>0.204721</td>\n",
              "    </tr>\n",
              "    <tr>\n",
              "      <th>8</th>\n",
              "      <td>-0.111111</td>\n",
              "      <td>0.777778</td>\n",
              "      <td>1.000000</td>\n",
              "      <td>1.0</td>\n",
              "      <td>0.333333</td>\n",
              "      <td>-0.084548</td>\n",
              "      <td>0.010676</td>\n",
              "    </tr>\n",
              "    <tr>\n",
              "      <th>9</th>\n",
              "      <td>-0.333333</td>\n",
              "      <td>-0.111111</td>\n",
              "      <td>1.000000</td>\n",
              "      <td>-1.0</td>\n",
              "      <td>1.000000</td>\n",
              "      <td>0.223316</td>\n",
              "      <td>-0.036210</td>\n",
              "    </tr>\n",
              "  </tbody>\n",
              "</table>\n",
              "</div>"
            ],
            "text/plain": [
              "   Num_Cells_Strain1  Num_Cells_Strain2     t_deg  ...    k_degB   ratioS1   ratioS2\n",
              "0          -0.777778          -0.333333 -1.000000  ...  0.333333  1.000000 -0.090580\n",
              "1           0.555556          -0.111111  1.000000  ...  1.000000 -0.200651 -0.202708\n",
              "2           0.111111           0.777778 -0.294118  ... -1.000000  0.097955 -0.039851\n",
              "3           0.333333          -1.000000 -0.294118  ...  0.333333  0.481777 -1.000000\n",
              "4          -1.000000           1.000000  0.411765  ...  0.333333 -1.000000  0.204721\n",
              "5          -0.111111          -0.111111 -0.294118  ...  0.333333 -0.054955  0.020051\n",
              "6          -1.000000          -0.555556  1.000000  ...  1.000000 -1.000000  0.509916\n",
              "7          -1.000000           1.000000  1.000000  ...  1.000000 -1.000000  0.204721\n",
              "8          -0.111111           0.777778  1.000000  ...  0.333333 -0.084548  0.010676\n",
              "9          -0.333333          -0.111111  1.000000  ...  1.000000  0.223316 -0.036210\n",
              "\n",
              "[10 rows x 7 columns]"
            ]
          },
          "metadata": {},
          "execution_count": 93
        }
      ]
    },
    {
      "cell_type": "code",
      "metadata": {
        "id": "8GMjZ5iJKsqB"
      },
      "source": [
        "x_s.to_csv(ATT_FILE_NAME, index=False)\n",
        "\n",
        "one_hot_t.to_csv(ONE_HOT_ENCODED_2CLASSES_FILE_NAME, index=False)\n",
        "#t.to_csv(CONTINUOUS_FILE_NAME, index = False)\n"
      ],
      "execution_count": null,
      "outputs": []
    }
  ]
}